{
 "cells": [
  {
   "cell_type": "code",
   "execution_count": 1,
   "metadata": {},
   "outputs": [
    {
     "name": "stdout",
     "output_type": "stream",
     "text": [
      "Collecting pymysqlNote: you may need to restart the kernel to use updated packages.\n",
      "\n",
      "  Using cached PyMySQL-1.1.0-py3-none-any.whl (44 kB)\n",
      "Installing collected packages: pymysql\n",
      "Successfully installed pymysql-1.1.0\n"
     ]
    }
   ],
   "source": [
    "%pip install pymysql"
   ]
  },
  {
   "cell_type": "code",
   "execution_count": 2,
   "metadata": {},
   "outputs": [],
   "source": [
    "import pymysql"
   ]
  },
  {
   "cell_type": "code",
   "execution_count": 19,
   "metadata": {},
   "outputs": [],
   "source": [
    "def read_config(p:str) -> dict:\n",
    "    \"\"\"\n",
    "    p: config file 경로\n",
    "    \"\"\" \n",
    "    with open(p,'r') as f:\n",
    "        lines = f.readlines()\n",
    "    config_dict={}\n",
    "\n",
    "    for l in lines:\n",
    "        idx = l.index('=')\n",
    "        k = l[:idx]\n",
    "        v = l[idx+1:]\n",
    "        config_dict[k] = v.rstrip()\n",
    "\n",
    "\n",
    "    return config_dict"
   ]
  },
  {
   "cell_type": "code",
   "execution_count": 20,
   "metadata": {},
   "outputs": [],
   "source": [
    "db_config = read_config('./test.config')"
   ]
  },
  {
   "cell_type": "code",
   "execution_count": 21,
   "metadata": {},
   "outputs": [],
   "source": [
    "# config 파일 관리하는 코드\n",
    "with open('./DB_config','r') as f:\n",
    "    config = f.readlines()"
   ]
  },
  {
   "cell_type": "code",
   "execution_count": 22,
   "metadata": {},
   "outputs": [
    {
     "data": {
      "text/plain": [
       "{'host': 'localhost',\n",
       " 'user': 'JUNHWA',\n",
       " 'password': 'wnsghk164*',\n",
       " 'database': 'study',\n",
       " 'charset': 'utf8mb4'}"
      ]
     },
     "execution_count": 22,
     "metadata": {},
     "output_type": "execute_result"
    }
   ],
   "source": [
    "config_dict = {} \n",
    "\n",
    "for l in config:\n",
    "    # k, v = l.split('=')   밑에 3개랑 같은 의미인데 혹시 구분이 ex. host=jksdfk@dnf=dkfj 이런 식이면 앞에 = 로 구분하고 싶은데 = 가 두개라서 3 개로 구분되어서 안 되는 경우 때문에 밑에 처럼 해서 그런 경우 안 나오게 함\n",
    "    idx = l.index('=')\n",
    "    k = l[:idx]\n",
    "    v = l[idx+1:]\n",
    "    config_dict[k] = v.rstrip()\n",
    "\n",
    "config_dict"
   ]
  },
  {
   "cell_type": "code",
   "execution_count": 23,
   "metadata": {},
   "outputs": [
    {
     "name": "stdout",
     "output_type": "stream",
     "text": [
      "연결 성공\n"
     ]
    }
   ],
   "source": [
    "try:\n",
    "    # conn = pymysql.connect(\n",
    "    #     host=\"localhost\", \n",
    "    #     # port=3306, 생략가능\n",
    "    #     user=\"내 유저네임 작성하면 됨\",\n",
    "    #     password=\"유저네임에 대한 비밀번호 작성하면 됨\",\n",
    "    #     database=\"study\",\n",
    "    #     charset=\"utf8mb4\"\n",
    "    # )\n",
    "    conn = pymysql.connect(**config_dict)\n",
    "    conn = pymysql\n",
    "    print(\"연결 성공\")\n",
    "except Exception as e:\n",
    "    print(\"연결 실패\", e)"
   ]
  },
  {
   "cell_type": "code",
   "execution_count": 24,
   "metadata": {},
   "outputs": [
    {
     "data": {
      "text/plain": [
       "<module 'pymysql' from 'c:\\\\Users\\\\behap\\\\.conda\\\\envs\\\\base39\\\\lib\\\\site-packages\\\\pymysql\\\\__init__.py'>"
      ]
     },
     "execution_count": 24,
     "metadata": {},
     "output_type": "execute_result"
    }
   ],
   "source": [
    "conn"
   ]
  },
  {
   "cell_type": "code",
   "execution_count": null,
   "metadata": {},
   "outputs": [],
   "source": []
  }
 ],
 "metadata": {
  "kernelspec": {
   "display_name": "Python 3",
   "language": "python",
   "name": "python3"
  },
  "language_info": {
   "codemirror_mode": {
    "name": "ipython",
    "version": 3
   },
   "file_extension": ".py",
   "mimetype": "text/x-python",
   "name": "python",
   "nbconvert_exporter": "python",
   "pygments_lexer": "ipython3",
   "version": "3.9.17"
  },
  "orig_nbformat": 4
 },
 "nbformat": 4,
 "nbformat_minor": 2
}
