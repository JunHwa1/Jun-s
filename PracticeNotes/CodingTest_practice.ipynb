{
 "cells": [
  {
   "attachments": {},
   "cell_type": "markdown",
   "metadata": {},
   "source": [
    "### 머쓱이보다 키 큰 사람\n",
    "### https://school.programmers.co.kr/learn/courses/30/lessons/120585"
   ]
  },
  {
   "cell_type": "code",
   "execution_count": 2,
   "metadata": {},
   "outputs": [],
   "source": [
    "def solution(array, height):\n",
    "    answer = 0\n",
    "\n",
    "    for i in array:\n",
    "        if i > height:\n",
    "            answer += 1\n",
    "\n",
    "    return answer"
   ]
  },
  {
   "attachments": {},
   "cell_type": "markdown",
   "metadata": {},
   "source": [
    "### k의 개수\n",
    "### https://school.programmers.co.kr/learn/courses/30/lessons/120887 "
   ]
  },
  {
   "cell_type": "code",
   "execution_count": null,
   "metadata": {},
   "outputs": [],
   "source": [
    "def solution(i, j, k):\n",
    "    answer = 0\n",
    "\n",
    "    for num in range(i, j+1):\n",
    "        for nums in list(str(num)):\n",
    "            if nums == str(k):\n",
    "                answer += 1\n",
    "\n",
    "    return answer"
   ]
  },
  {
   "cell_type": "code",
   "execution_count": 8,
   "metadata": {},
   "outputs": [],
   "source": [
    "# k의 개수\n",
    "# 강사님 풀이\n",
    "\n",
    "def solution(i, j, k):\n",
    "    answer = 0\n",
    "    \n",
    "    for number in range(i, j+1):\n",
    "        \n",
    "        while number//10:\n",
    "            if number % 10 == k:\n",
    "                answer+=1\n",
    "            number //= 10\n",
    "\n",
    "        if number == k:\n",
    "            answer += 1\n",
    "    # 이 안에 k가 몇 번 들어가는지?\n",
    "    # 10으로 나눈 나머지 == k, answer += 1\n",
    "    # 10으로 나눈 몫 -> 0\n",
    "    \n",
    "    return answer\n",
    "\n",
    "def solution(i, j, k):\n",
    "    # ''.count()\n",
    "    # ''.join()\n",
    "    # map, str\n",
    "    return ''.join( map(str, range(i, j+1)) ).count(str(k))"
   ]
  },
  {
   "attachments": {},
   "cell_type": "markdown",
   "metadata": {},
   "source": [
    "### 할인 행사\n",
    "### https://school.programmers.co.kr/learn/courses/30/lessons/131127"
   ]
  },
  {
   "cell_type": "code",
   "execution_count": 4,
   "metadata": {},
   "outputs": [],
   "source": [
    "from collections import Counter\n",
    "def solution(want, number, discount):\n",
    "    answer = 0\n",
    "    check = {}\n",
    "\n",
    "    for w,n in zip(want, number):\n",
    "        check[w] = n\n",
    "\n",
    "    for d in range(len(discount) - 9):\n",
    "        c = Counter(discount[d:d+10])\n",
    "\n",
    "        if c == check:\n",
    "            answer += 1\n",
    "\n",
    "    return answer"
   ]
  },
  {
   "cell_type": "code",
   "execution_count": 9,
   "metadata": {},
   "outputs": [],
   "source": [
    "# 할인 행사\n",
    "# 강사님 풀이\n",
    "\n",
    "def solution(want, number, discount):\n",
    "    answer = 0\n",
    "    # 10일 동안 회원 자격\n",
    "    # 할인하는 제품은 하루에 하나씩만 구매\n",
    "    for i in range(len(discount) -10 +1):\n",
    "        tendays = discount[i:i+10] # 10일동안 살 수 있는 품목들\n",
    "        for j in range(len(want)):\n",
    "            want[j] # 내가 원하는 상품\n",
    "            number[j] # 원하는 개수\n",
    "            if tendays.count(want[j]) != number[j]:\n",
    "                break\n",
    "        else:\n",
    "            # 반복문이 정상적으로 다 돌았으면,\n",
    "            answer += 1\n",
    "\n",
    "    return answer\n",
    "\n",
    "# 1. number == # 쇼핑카트 answer+=1 (list 자료형 활용)\n",
    "def solution(want, number, discount):\n",
    "    answer = 0\n",
    "    # 10일 동안 회원 자격\n",
    "    # 할인하는 제품은 하루에 하나씩만 구매\n",
    "    \n",
    "    shopping_cart = [0 for _ in want]\n",
    "    for product in discount[:10]: # 10일동안 살 수 있는 품목들\n",
    "        if product in want: # 있는지 없는지 체크\n",
    "            idx = want.index(product)\n",
    "            shopping_cart[idx] += 1\n",
    "            \n",
    "    if shopping_cart == number:\n",
    "        answer += 1\n",
    "    \n",
    "    for i in range(1, len(discount) -10 +1):\n",
    "        # 빼주고\n",
    "        if discount[i-1] in want:\n",
    "            idx = want.index(discount[i-1])\n",
    "            shopping_cart[idx] -= 1\n",
    "        # 더해주면\n",
    "        if discount[i+9] in want:\n",
    "            idx = want.index(discount[i+9])\n",
    "            shopping_cart[idx] += 1\n",
    "        \n",
    "        if shopping_cart == number:\n",
    "            answer += 1\n",
    "    return answer\n",
    "\n",
    "# 2. {want: number} == {상품: 개수} (dict 자료형 활용) => collections -> Counter\n",
    "# 3. discount 10일동안 살 수 있는 품목들 -> 정렬 -> \n",
    "#    want * number [banana, banana, banana, apple, apple] sorted()\n",
    "def solution(want, number, discount):\n",
    "    answer = 0\n",
    "    # 10일 동안 회원 자격\n",
    "    # 할인하는 제품은 하루에 하나씩만 구매\n",
    "    want_products = []\n",
    "    for i in range(len(want)):\n",
    "        # want[i] * 3 # 문자열 -> 문자열\n",
    "        want_products += [want[i]] * number[i] # 리스트 요소 1 -> 3개로\n",
    "    want_products.sort()\n",
    "    # print(want_products)\n",
    "    \n",
    "    for i in range(len(discount) -10 +1):\n",
    "        tendays = discount[i:i+10] # 10일동안 살 수 있는 품목들\n",
    "        tendays.sort()\n",
    "        if want_products == tendays:\n",
    "            answer+=1\n",
    "\n",
    "    return answer"
   ]
  },
  {
   "cell_type": "code",
   "execution_count": null,
   "metadata": {},
   "outputs": [],
   "source": []
  }
 ],
 "metadata": {
  "kernelspec": {
   "display_name": "Python 3",
   "language": "python",
   "name": "python3"
  },
  "language_info": {
   "codemirror_mode": {
    "name": "ipython",
    "version": 3
   },
   "file_extension": ".py",
   "mimetype": "text/x-python",
   "name": "python",
   "nbconvert_exporter": "python",
   "pygments_lexer": "ipython3",
   "version": "3.11.4"
  },
  "orig_nbformat": 4
 },
 "nbformat": 4,
 "nbformat_minor": 2
}
