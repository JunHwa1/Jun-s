{
 "cells": [
  {
   "attachments": {},
   "cell_type": "markdown",
   "metadata": {},
   "source": [
    "# 프로그래머스 코딩테스트 입문"
   ]
  },
  {
   "attachments": {},
   "cell_type": "markdown",
   "metadata": {},
   "source": [
    "### day01 +day02"
   ]
  },
  {
   "cell_type": "code",
   "execution_count": 1,
   "metadata": {},
   "outputs": [],
   "source": [
    "def solution(num1, num2):\n",
    "    if (0 <= num1 <= 100 and 0 <= num2 <= 100):\n",
    "        answer = num1 * num2\n",
    "    \n",
    "    return answer"
   ]
  },
  {
   "cell_type": "code",
   "execution_count": 2,
   "metadata": {},
   "outputs": [
    {
     "data": {
      "text/plain": [
       "500"
      ]
     },
     "execution_count": 2,
     "metadata": {},
     "output_type": "execute_result"
    }
   ],
   "source": [
    "solution(50, 10)"
   ]
  },
  {
   "cell_type": "code",
   "execution_count": 3,
   "metadata": {},
   "outputs": [],
   "source": [
    "def solution(num1, num2):\n",
    "    if (0<= num1 <= 100 and 0 <= num2 <= 100):\n",
    "        answer = num1 // num2\n",
    "        \n",
    "    return answer"
   ]
  },
  {
   "cell_type": "code",
   "execution_count": 4,
   "metadata": {},
   "outputs": [
    {
     "data": {
      "text/plain": [
       "4"
      ]
     },
     "execution_count": 4,
     "metadata": {},
     "output_type": "execute_result"
    }
   ],
   "source": [
    "solution(14, 3)"
   ]
  },
  {
   "cell_type": "code",
   "execution_count": 5,
   "metadata": {},
   "outputs": [],
   "source": [
    "def solution(num1, num2):\n",
    "    if (0 <= num1 <= 100 and 0 <= num2 <= 100):\n",
    "        answer = f'{(num1 / num2) * 1000:.0f}'\n",
    "    return answer\n"
   ]
  },
  {
   "cell_type": "code",
   "execution_count": 6,
   "metadata": {},
   "outputs": [],
   "source": [
    "def solution(num1, num2):\n",
    "    if (0 <= num1 <= 100 and 0 <= num2 <= 100):\n",
    "        answer = int((num1 / num2) * 1000)\n",
    "    \n",
    "    return answer"
   ]
  },
  {
   "cell_type": "code",
   "execution_count": 7,
   "metadata": {},
   "outputs": [],
   "source": [
    "def solution(num1, num2):\n",
    "    if (0 <= num1 <= 100 and 0 <= num2 <= 100):\n",
    "        answer = round((num1 / num2) * 1000, 0)\n",
    "    \n",
    "    return answer"
   ]
  },
  {
   "cell_type": "code",
   "execution_count": 8,
   "metadata": {},
   "outputs": [
    {
     "data": {
      "text/plain": [
       "2333.0"
      ]
     },
     "execution_count": 8,
     "metadata": {},
     "output_type": "execute_result"
    }
   ],
   "source": [
    "solution(7, 3)"
   ]
  },
  {
   "cell_type": "code",
   "execution_count": 9,
   "metadata": {},
   "outputs": [],
   "source": [
    "def solution(num1, num2):\n",
    "    if (0 <= num1 <= 10000 and 0 <= num2 <= 10000):\n",
    "        if num1 == num2:\n",
    "            answer = 1\n",
    "        else:\n",
    "            answer = -1 \n",
    "\n",
    "    return answer"
   ]
  },
  {
   "cell_type": "code",
   "execution_count": 10,
   "metadata": {},
   "outputs": [
    {
     "data": {
      "text/plain": [
       "1"
      ]
     },
     "execution_count": 10,
     "metadata": {},
     "output_type": "execute_result"
    }
   ],
   "source": [
    "solution(2,2)"
   ]
  },
  {
   "cell_type": "code",
   "execution_count": 1,
   "metadata": {},
   "outputs": [],
   "source": [
    "# 분수의 덧셈\n",
    "\n",
    "from fractions import Fraction \n",
    "\n",
    "def solution(numer1, denom1, numer2, denom2):\n",
    "    add = Fraction(numer1, denom1) + Fraction(numer2, denom2)\n",
    "    answer = [add.numerator, add.denominator]\n",
    "    return answer"
   ]
  },
  {
   "cell_type": "code",
   "execution_count": 2,
   "metadata": {},
   "outputs": [
    {
     "data": {
      "text/plain": [
       "[29, 6]"
      ]
     },
     "execution_count": 2,
     "metadata": {},
     "output_type": "execute_result"
    }
   ],
   "source": [
    "solution(9,2,1,3)"
   ]
  },
  {
   "cell_type": "code",
   "execution_count": 3,
   "metadata": {},
   "outputs": [],
   "source": [
    "# 배열 두 배 만들기\n",
    "\n",
    "def solution(numbers):\n",
    "    answer = []\n",
    "    for num in numbers:  # 배열의 요소들을 하나씩 순회환다.\n",
    "        answer.append(num*2)  # 2배하고 answer 에 담아줌\n",
    "        \n",
    "    return answer"
   ]
  },
  {
   "cell_type": "code",
   "execution_count": 4,
   "metadata": {},
   "outputs": [
    {
     "data": {
      "text/plain": [
       "[2, 4, 6]"
      ]
     },
     "execution_count": 4,
     "metadata": {},
     "output_type": "execute_result"
    }
   ],
   "source": [
    "solution([1,2,3])"
   ]
  },
  {
   "attachments": {},
   "cell_type": "markdown",
   "metadata": {},
   "source": [
    "# 2023-07-04"
   ]
  },
  {
   "cell_type": "code",
   "execution_count": 21,
   "metadata": {},
   "outputs": [],
   "source": [
    "# 배열 두 배 만들기\n",
    "# 강사님 풀이 1\n",
    "\n",
    "def solution(numbers):\n",
    "    # map(함수, 배열) -> 배열의 요소들을 하나씩 함수에 넣어서 결과를 반환.\n",
    "    def func(x):\n",
    "        return x*2    \n",
    "    return list(map(func, numbers))  # json 으로 표현 할 수 없어서 list() 형변환 해줘야 한다."
   ]
  },
  {
   "cell_type": "code",
   "execution_count": 23,
   "metadata": {},
   "outputs": [],
   "source": [
    "# 강사님 풀이 2\n",
    "\n",
    "def solution(numbers):\n",
    "    # map(함수, 배열) -> 배열의 요소들을 하나씩 함수에 넣어서 결과를 반환.\n",
    "    def func(x):\n",
    "        return x*2  \n",
    "    # lambda x : x * 2  -> 한 줄 함수 표현식  \n",
    "    return list(map(lambda x : x*2, numbers))  # json 으로 표현 할 수 없어서 list() 형 변환 해줘야 한다."
   ]
  },
  {
   "cell_type": "code",
   "execution_count": 24,
   "metadata": {},
   "outputs": [],
   "source": [
    "# 강사님 풀이 3\n",
    "\n",
    "def solution(numbers):\n",
    "\n",
    "# list comprehension \n",
    "    return [number * 2 for number in numbers]"
   ]
  },
  {
   "cell_type": "code",
   "execution_count": 25,
   "metadata": {},
   "outputs": [],
   "source": [
    "# 강사님 풀이 4\n",
    "\n",
    "def solution(numbers):\n",
    "\n",
    "    # cf. dict comprehension\n",
    "    return {number: number *2 for number in numbers}"
   ]
  },
  {
   "attachments": {},
   "cell_type": "markdown",
   "metadata": {},
   "source": [
    "---"
   ]
  },
  {
   "cell_type": "code",
   "execution_count": 31,
   "metadata": {},
   "outputs": [],
   "source": [
    "# 분수의 덧셈\n",
    "# 강사님 풀이 1\n",
    "\n",
    "import math\n",
    "\n",
    "def solution(numer1, denom1, numer2, denom2):\n",
    "    answer = []\n",
    "    # 수도코드\n",
    "    # 분수의 덧셈\n",
    "    # 1. 분모를 맞춰준다. (분자 덧셈 할 수 있게)\n",
    "    # 2. 분모 맞춰줄 때 사용한 값을 각 분자에 곱해준다.\n",
    "    # 3. 분자를 더한다.\n",
    "    head = numer1 * denom2 + numer2 * denom1 # 분자\n",
    "    body = denom1 * denom2 # 분모 \n",
    "    \n",
    "    # 기약분수\n",
    "    # 1. 최대공약수로 나눠준다.\n",
    "    temp = math.gcd(head, body)\n",
    "    answer = [head//temp, body//temp]\n",
    "\n",
    "    return answer \n",
    "\n"
   ]
  },
  {
   "cell_type": "code",
   "execution_count": 27,
   "metadata": {},
   "outputs": [],
   "source": [
    "# 분수의 덧셈\n",
    "# 강사님 풀이 2\n",
    "\n",
    "def solution(numer1, denom1, numer2, denom2):\n",
    "    answer = []\n",
    "    # 수도코드\n",
    "    # 분수의 덧셈\n",
    "    # 1. 분모를 맞춰준다. (분자 덧셈 할 수 있게)\n",
    "    # 2. 분모 맞춰줄 때 사용한 값을 각 분자에 곱해준다.\n",
    "    # 3. 분자를 더한다.\n",
    "    head = numer1 * denom2 + numer2 * denom1 # 분자\n",
    "    body = denom1 * denom2 # 분모 \n",
    "    \n",
    "    # 기약분수\n",
    "    # 1. 반복문 통해서 최대공약수 확인\n",
    "    # 2. 두 값을 나눌 수 있는 가장 큰 값\n",
    "    # 3. 둘  중에 작은 값까지만 확인\n",
    "    for i in range(1, min(head, body) + 1):\n",
    "        # 여기서 두 값이 나눠지는지 체크\n",
    "        if head % i == 0 and body % i == 0:\n",
    "            # 둘 다 나눠 떨어지면, 최대공약수로 바꿔줌.\n",
    "            temp = i \n",
    "    answer = [head//temp, body//temp]\n",
    "\n",
    "    return answer "
   ]
  },
  {
   "attachments": {},
   "cell_type": "markdown",
   "metadata": {},
   "source": [
    "## 코딩테스트 입문 day 3 + day 4"
   ]
  },
  {
   "cell_type": "code",
   "execution_count": 1,
   "metadata": {},
   "outputs": [],
   "source": [
    "# 나머지 구하기\n",
    "\n",
    "def solution(num1, num2):\n",
    "    answer = num1 % num2 \n",
    "    return answer"
   ]
  },
  {
   "cell_type": "code",
   "execution_count": 24,
   "metadata": {},
   "outputs": [],
   "source": [
    "# 중앙값 구하기\n",
    "\n",
    "def solution(array):\n",
    "    array.sort()\n",
    "    center_idx = (len(array) // 2) \n",
    "    \n",
    "    return array[center_idx]\n"
   ]
  },
  {
   "cell_type": "code",
   "execution_count": 27,
   "metadata": {},
   "outputs": [],
   "source": [
    "# 최빈값 구하기\n",
    "\n",
    "def solution(array):\n",
    "    while len(array) != 0:\n",
    "        for i, a in enumerate(set(array)):\n",
    "            array.remove(a)\n",
    "        if i == 0:\n",
    "            return a \n",
    "\n",
    "    return -1"
   ]
  },
  {
   "cell_type": "code",
   "execution_count": 32,
   "metadata": {},
   "outputs": [],
   "source": [
    "# 짝수는 싫어요\n",
    "\n",
    "def solution(n):\n",
    "    answer = []\n",
    "\n",
    "    for i in range(n+1):\n",
    "        if i % 2 == 1:\n",
    "            answer.append(i)\n",
    "            \n",
    "\n",
    "    return answer"
   ]
  },
  {
   "cell_type": "code",
   "execution_count": 33,
   "metadata": {},
   "outputs": [],
   "source": [
    "# 피자 나눠 먹기(1)\n",
    "\n",
    "def solution(n):\n",
    "    answer = n % 7\n",
    "    if answer == 0:\n",
    "        return (n // 7)\n",
    "    else:\n",
    "        return (n // 7 + 1)\n",
    "        \n",
    "    "
   ]
  },
  {
   "cell_type": "code",
   "execution_count": 38,
   "metadata": {},
   "outputs": [],
   "source": [
    "# 피자 나눠 먹기(2)\n",
    "\n",
    "import math \n",
    "\n",
    "def solution(n):\n",
    "    gcd_val = math.gcd(n, 6)\n",
    "    lcm_val = (n * 6) / gcd_val \n",
    "    answer = lcm_val / 6\n",
    "\n",
    "    return answer"
   ]
  },
  {
   "cell_type": "code",
   "execution_count": null,
   "metadata": {},
   "outputs": [],
   "source": [
    "# 피자 나눠 먹기(3)\n",
    "\n",
    "def solution(slice, n):\n",
    "    i = 1\n",
    "    while 1:\n",
    "        if slice * i < n:\n",
    "            i += 1\n",
    "        elif slice * i >= n:\n",
    "            return i \n",
    "    \n"
   ]
  },
  {
   "cell_type": "code",
   "execution_count": 40,
   "metadata": {},
   "outputs": [],
   "source": [
    "# 배열의 평균값\n",
    "\n",
    "def solution(numbers):\n",
    "    num_sum = sum(numbers)\n",
    "    num_mean = num_sum / len(numbers)    \n",
    "    return num_mean"
   ]
  },
  {
   "cell_type": "code",
   "execution_count": null,
   "metadata": {},
   "outputs": [],
   "source": []
  }
 ],
 "metadata": {
  "kernelspec": {
   "display_name": "Python 3",
   "language": "python",
   "name": "python3"
  },
  "language_info": {
   "codemirror_mode": {
    "name": "ipython",
    "version": 3
   },
   "file_extension": ".py",
   "mimetype": "text/x-python",
   "name": "python",
   "nbconvert_exporter": "python",
   "pygments_lexer": "ipython3",
   "version": "3.11.4"
  },
  "orig_nbformat": 4
 },
 "nbformat": 4,
 "nbformat_minor": 2
}
