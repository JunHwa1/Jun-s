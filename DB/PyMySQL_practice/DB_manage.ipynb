{
 "cells": [
  {
   "cell_type": "code",
   "execution_count": 37,
   "metadata": {},
   "outputs": [
    {
     "name": "stdout",
     "output_type": "stream",
     "text": [
      "Requirement already satisfied: pymysql in c:\\users\\behap\\.conda\\envs\\base39\\lib\\site-packages (1.1.0)Note: you may need to restart the kernel to use updated packages.\n",
      "\n"
     ]
    }
   ],
   "source": [
    "%pip install pymysql"
   ]
  },
  {
   "cell_type": "code",
   "execution_count": 38,
   "metadata": {},
   "outputs": [],
   "source": [
    "import pymysql"
   ]
  },
  {
   "cell_type": "code",
   "execution_count": 39,
   "metadata": {},
   "outputs": [],
   "source": [
    "def read_config(p:str) -> dict:\n",
    "    \"\"\"\n",
    "    p: config file 경로\n",
    "    \"\"\" \n",
    "    with open(p,'r') as f:\n",
    "        lines = f.readlines()\n",
    "    config_dict={}\n",
    "\n",
    "    for l in lines:\n",
    "        idx = l.index('=')\n",
    "        k = l[:idx]\n",
    "        v = l[idx+1:]\n",
    "        config_dict[k] = v.rstrip()\n",
    "\n",
    "\n",
    "    return config_dict"
   ]
  },
  {
   "cell_type": "code",
   "execution_count": 42,
   "metadata": {},
   "outputs": [],
   "source": [
    "db_config = read_config('./test.config')"
   ]
  },
  {
   "cell_type": "code",
   "execution_count": 45,
   "metadata": {},
   "outputs": [],
   "source": [
    "# config 파일 관리하는 코드\n",
    "with open('./DB_config','r') as f:\n",
    "    config = f.readlines()"
   ]
  },
  {
   "cell_type": "code",
   "execution_count": null,
   "metadata": {},
   "outputs": [],
   "source": [
    "config_dict = {} \n",
    "\n",
    "for l in config:\n",
    "    # k, v = l.split('=')   밑에 3개랑 같은 의미인데 혹시 구분이 ex. host=jksdfk@dnf=dkfj 이런 식이면 앞에 = 로 구분하고 싶은데 = 가 두개라서 3 개로 구분되어서 안 되는 경우 때문에 밑에 처럼 해서 그런 경우 안 나오게 함\n",
    "    idx = l.index('=')\n",
    "    k = l[:idx]\n",
    "    v = l[idx+1:]\n",
    "    config_dict[k] = v.rstrip()\n",
    "\n",
    "config_dict"
   ]
  },
  {
   "cell_type": "code",
   "execution_count": 47,
   "metadata": {},
   "outputs": [
    {
     "name": "stdout",
     "output_type": "stream",
     "text": [
      "연결 성공\n"
     ]
    }
   ],
   "source": [
    "try:\n",
    "    # conn = pymysql.connect(\n",
    "    #     host=\"localhost\", \n",
    "    #     # port=3306, 생략가능\n",
    "    #     user=\"내 유저네임 작성하면 됨\",\n",
    "    #     password=\"유저네임에 대한 비밀번호 작성하면 됨\",\n",
    "    #     database=\"study\",\n",
    "    #     charset=\"utf8mb4\"\n",
    "    # )\n",
    "    conn = pymysql.connect(**config_dict)\n",
    "    # conn = pymysql.connect(**db_config)\n",
    "    # conn = pymysql.connect(host='localhost', user='JUNHWA')\n",
    "\n",
    "    print(\"연결 성공\")\n",
    "except Exception as e:\n",
    "    print(\"연결 실패\", e)"
   ]
  },
  {
   "cell_type": "code",
   "execution_count": 48,
   "metadata": {},
   "outputs": [
    {
     "data": {
      "text/plain": [
       "<pymysql.connections.Connection at 0x1dee824fc40>"
      ]
     },
     "execution_count": 48,
     "metadata": {},
     "output_type": "execute_result"
    }
   ],
   "source": [
    "conn"
   ]
  },
  {
   "cell_type": "markdown",
   "metadata": {},
   "source": [
    "### INSERT"
   ]
  },
  {
   "cell_type": "code",
   "execution_count": 15,
   "metadata": {},
   "outputs": [],
   "source": [
    "with conn.cursor() as cursor:\n",
    "    sql = 'INSERT INTO `Students`(`Name`, `Age`, `Address`) \\\n",
    "        VALUES (\"정준화\", \"27\", \"서울\")' \n",
    "    cursor.execute(sql)\n",
    "\n",
    "conn.commit() "
   ]
  },
  {
   "cell_type": "code",
   "execution_count": 16,
   "metadata": {},
   "outputs": [],
   "source": [
    "with conn.cursor() as cursor:\n",
    "    sql = 'INSERT INTO `Students`(`Name`, `Age`, `Address`) \\\n",
    "        VALUES (%s, %s, %s)' \n",
    "    cursor.execute(sql, (\"최용훈\", \"30\", \"서울\"))\n",
    "\n",
    "conn.commit() "
   ]
  },
  {
   "cell_type": "code",
   "execution_count": 17,
   "metadata": {},
   "outputs": [],
   "source": [
    "with conn.cursor() as cursor:\n",
    "    sql = 'INSERT INTO `Students`(`Name`) \\\n",
    "        VALUES (%s)' \n",
    "    cursor.execute(sql, (\"정우경\", ))    # 이렇게 뒤에 , 붙여서 튜플로 만들어주기.\n",
    "\n",
    "conn.commit() "
   ]
  },
  {
   "cell_type": "code",
   "execution_count": 18,
   "metadata": {},
   "outputs": [
    {
     "data": {
      "text/plain": [
       "str"
      ]
     },
     "execution_count": 18,
     "metadata": {},
     "output_type": "execute_result"
    }
   ],
   "source": [
    "type((\"정우경\"))"
   ]
  },
  {
   "cell_type": "code",
   "execution_count": 19,
   "metadata": {},
   "outputs": [
    {
     "data": {
      "text/plain": [
       "tuple"
      ]
     },
     "execution_count": 19,
     "metadata": {},
     "output_type": "execute_result"
    }
   ],
   "source": [
    "type((\"정우경\", ))"
   ]
  },
  {
   "cell_type": "markdown",
   "metadata": {},
   "source": [
    "### INSERT MANY"
   ]
  },
  {
   "cell_type": "code",
   "execution_count": 20,
   "metadata": {},
   "outputs": [],
   "source": [
    "with conn.cursor() as cursor:\n",
    "    sql = 'INSERT INTO `Students`(`Name`) \\\n",
    "        VALUES (%s)' \n",
    "    cursor.executemany(sql, (\"정우경\", ))\n",
    "\n",
    "conn.commit() "
   ]
  },
  {
   "cell_type": "code",
   "execution_count": 21,
   "metadata": {},
   "outputs": [],
   "source": [
    "with conn.cursor() as cursor:\n",
    "    sql = 'INSERT INTO `Students`(`Name`) \\\n",
    "        VALUES (%s)' \n",
    "    cursor.executemany(sql, [\n",
    "        (\"서지은\", ),   # data1\n",
    "         (\"정찬영\", )   # data2\n",
    "    ])\n",
    "\n",
    "conn.commit() "
   ]
  },
  {
   "cell_type": "markdown",
   "metadata": {},
   "source": [
    "### SELECT"
   ]
  },
  {
   "cell_type": "code",
   "execution_count": 22,
   "metadata": {},
   "outputs": [
    {
     "data": {
      "text/plain": [
       "(1, '홍길동', 24, '인천')"
      ]
     },
     "execution_count": 22,
     "metadata": {},
     "output_type": "execute_result"
    }
   ],
   "source": [
    "with conn.cursor() as cur: \n",
    "    sql = 'SELECT * FROM Students'\n",
    "    cur.execute(sql) \n",
    "    data = cur.fetchone() \n",
    "\n",
    "data"
   ]
  },
  {
   "cell_type": "code",
   "execution_count": 23,
   "metadata": {},
   "outputs": [
    {
     "data": {
      "text/plain": [
       "((1, '홍길동', 24, '인천'), (2, '이연결', 60, '서울'), (3, '이몽룡', 30, '대전'))"
      ]
     },
     "execution_count": 23,
     "metadata": {},
     "output_type": "execute_result"
    }
   ],
   "source": [
    "with conn.cursor() as cur: \n",
    "    sql = 'SELECT * FROM Students'\n",
    "    cur.execute(sql) \n",
    "    data = cur.fetchmany(size=3) \n",
    "\n",
    "data"
   ]
  },
  {
   "cell_type": "code",
   "execution_count": 24,
   "metadata": {},
   "outputs": [
    {
     "data": {
      "text/plain": [
       "((1, '홍길동', 24, '인천'),\n",
       " (2, '이연결', 60, '서울'),\n",
       " (3, '이몽룡', 30, '대전'),\n",
       " (4, '성춘향', 27, '경기'),\n",
       " (6, '정준화', 27, '서울'),\n",
       " (7, '최용훈', 30, '서울'),\n",
       " (9, '정우경', None, None),\n",
       " (10, '서지은', 26, None),\n",
       " (11, '정찬영', None, None),\n",
       " (12, '정준화', 27, '서울'),\n",
       " (13, '최용훈', 30, '서울'),\n",
       " (14, '정우경', None, None),\n",
       " (15, '정우경', None, None),\n",
       " (16, '서지은', None, None),\n",
       " (17, '정찬영', None, None))"
      ]
     },
     "execution_count": 24,
     "metadata": {},
     "output_type": "execute_result"
    }
   ],
   "source": [
    "with conn.cursor() as cur: \n",
    "    sql = 'SELECT * FROM Students'\n",
    "    cur.execute(sql) \n",
    "    data = cur.fetchall() \n",
    "\n",
    "data"
   ]
  },
  {
   "cell_type": "code",
   "execution_count": 25,
   "metadata": {},
   "outputs": [
    {
     "data": {
      "text/plain": [
       "((1, '홍길동', 24, '인천'), (2, '이연결', 60, '서울'), (3, '이몽룡', 30, '대전'))"
      ]
     },
     "execution_count": 25,
     "metadata": {},
     "output_type": "execute_result"
    }
   ],
   "source": [
    "with conn.cursor() as cur: \n",
    "    sql = 'SELECT * FROM Students LIMIT 3 OFFSET 0'\n",
    "    cur.execute(sql) \n",
    "    data = cur.fetchall() \n",
    "\n",
    "data"
   ]
  },
  {
   "cell_type": "code",
   "execution_count": 26,
   "metadata": {},
   "outputs": [
    {
     "data": {
      "text/plain": [
       "((1, '홍길동', 24, '인천'),\n",
       " (2, '이연결', 60, '서울'),\n",
       " (3, '이몽룡', 30, '대전'),\n",
       " (4, '성춘향', 27, '경기'),\n",
       " (6, '정준화', 27, '서울'))"
      ]
     },
     "execution_count": 26,
     "metadata": {},
     "output_type": "execute_result"
    }
   ],
   "source": [
    "with conn.cursor() as cur: \n",
    "    sql = 'SELECT * FROM Students LIMIT %s OFFSET %s'\n",
    "    cur.execute(sql, (5,0)) \n",
    "    data = cur.fetchall() \n",
    "\n",
    "data"
   ]
  },
  {
   "cell_type": "code",
   "execution_count": 27,
   "metadata": {},
   "outputs": [
    {
     "data": {
      "text/plain": [
       "((1, '홍길동', 24, '인천'),\n",
       " (2, '이연결', 60, '서울'),\n",
       " (3, '이몽룡', 30, '대전'),\n",
       " (4, '성춘향', 27, '경기'),\n",
       " (6, '정준화', 27, '서울'))"
      ]
     },
     "execution_count": 27,
     "metadata": {},
     "output_type": "execute_result"
    }
   ],
   "source": [
    "page_size = 5\n",
    "page = 1\n",
    "\n",
    "limit = page_size \n",
    "offset = page_size * (page-1)\n",
    "\n",
    "with conn.cursor() as cur: \n",
    "    sql = 'SELECT * FROM Students LIMIT %s OFFSET %s'\n",
    "    cur.execute(sql, (limit, offset)) \n",
    "    data = cur.fetchall() \n",
    "\n",
    "data"
   ]
  },
  {
   "cell_type": "code",
   "execution_count": 28,
   "metadata": {},
   "outputs": [
    {
     "data": {
      "text/plain": [
       "((7, '최용훈', 30, '서울'),\n",
       " (9, '정우경', None, None),\n",
       " (10, '서지은', 26, None),\n",
       " (11, '정찬영', None, None),\n",
       " (12, '정준화', 27, '서울'))"
      ]
     },
     "execution_count": 28,
     "metadata": {},
     "output_type": "execute_result"
    }
   ],
   "source": [
    "def pagination(page, page_size=5):\n",
    "    limit = page_size \n",
    "    offset = page_size * (page-1)\n",
    "\n",
    "    with conn.cursor() as cur: \n",
    "        sql = 'SELECT * FROM Students LIMIT %s OFFSET %s'\n",
    "        cur.execute(sql, (limit, offset)) \n",
    "        data = cur.fetchall() \n",
    "\n",
    "    return data\n",
    "\n",
    "page_one = pagination(2)\n",
    "page_one "
   ]
  },
  {
   "cell_type": "markdown",
   "metadata": {},
   "source": [
    "### UPDATE"
   ]
  },
  {
   "cell_type": "code",
   "execution_count": 29,
   "metadata": {},
   "outputs": [],
   "source": [
    "with conn.cursor() as cur:\n",
    "    sql = 'UPDATE `Students` SET Age=%s WHERE StudentID=%s' \n",
    "    cur.execute(sql, (26, 10))  # 순서 중요!\n",
    "    \n",
    "conn.commit()"
   ]
  },
  {
   "cell_type": "code",
   "execution_count": 30,
   "metadata": {},
   "outputs": [
    {
     "data": {
      "text/plain": [
       "((7, '최용훈', 30, '서울'),\n",
       " (9, '정우경', None, None),\n",
       " (10, '서지은', 26, None),\n",
       " (11, '정찬영', None, None),\n",
       " (12, '정준화', 27, '서울'))"
      ]
     },
     "execution_count": 30,
     "metadata": {},
     "output_type": "execute_result"
    }
   ],
   "source": [
    "pagination(2)"
   ]
  },
  {
   "cell_type": "code",
   "execution_count": 31,
   "metadata": {},
   "outputs": [],
   "source": [
    "with conn.cursor() as cur:\n",
    "    sql = 'UPDATE `Students` SET Age=%s WHERE StudentID=%s' \n",
    "    cur.executemany(sql, [\n",
    "        (24, 1),\n",
    "        (30, 3)\n",
    "    ])  # 순서 중요!\n",
    "    \n",
    "conn.commit()"
   ]
  },
  {
   "cell_type": "code",
   "execution_count": 32,
   "metadata": {},
   "outputs": [
    {
     "data": {
      "text/plain": [
       "((1, '홍길동', 24, '인천'),\n",
       " (2, '이연결', 60, '서울'),\n",
       " (3, '이몽룡', 30, '대전'),\n",
       " (4, '성춘향', 27, '경기'),\n",
       " (6, '정준화', 27, '서울'))"
      ]
     },
     "execution_count": 32,
     "metadata": {},
     "output_type": "execute_result"
    }
   ],
   "source": [
    "pagination(1)"
   ]
  },
  {
   "cell_type": "markdown",
   "metadata": {},
   "source": [
    "### DELETE"
   ]
  },
  {
   "cell_type": "code",
   "execution_count": 33,
   "metadata": {},
   "outputs": [],
   "source": [
    "with conn.cursor() as cur: \n",
    "    sql = 'DELETE FROM `Students` WHERE StudentID=%s'\n",
    "    cur.execute(sql, (5, ))\n",
    "\n",
    "conn.commit()"
   ]
  },
  {
   "cell_type": "code",
   "execution_count": 34,
   "metadata": {},
   "outputs": [
    {
     "data": {
      "text/plain": [
       "((1, '홍길동', 24, '인천'),\n",
       " (2, '이연결', 60, '서울'),\n",
       " (3, '이몽룡', 30, '대전'),\n",
       " (4, '성춘향', 27, '경기'),\n",
       " (6, '정준화', 27, '서울'))"
      ]
     },
     "execution_count": 34,
     "metadata": {},
     "output_type": "execute_result"
    }
   ],
   "source": [
    "pagination(1)"
   ]
  },
  {
   "cell_type": "code",
   "execution_count": 35,
   "metadata": {},
   "outputs": [],
   "source": [
    "# 외래키 제약조건 해제\n",
    "# SET FOREIGN_KEY_CHECKS = 0;\n",
    "\n",
    "with conn.cursor() as cur:\n",
    "    sql = 'SET FOREIGN_KEY_CHECKS = 0'\n",
    "    cur.execute(sql)\n",
    "\n",
    "conn.commit()"
   ]
  },
  {
   "cell_type": "code",
   "execution_count": 36,
   "metadata": {},
   "outputs": [],
   "source": [
    "with conn.cursor() as cur: \n",
    "    sql = 'DELETE FROM `Students` WHERE StudentID IN (%s, %s, %s)'\n",
    "    cur.execute(sql, (2, 3, 4))\n",
    "\n",
    "conn.commit()\n",
    "\n"
   ]
  },
  {
   "cell_type": "code",
   "execution_count": 37,
   "metadata": {},
   "outputs": [
    {
     "data": {
      "text/plain": [
       "((1, '홍길동', 24, '인천'),\n",
       " (6, '정준화', 27, '서울'),\n",
       " (7, '최용훈', 30, '서울'),\n",
       " (9, '정우경', None, None),\n",
       " (10, '서지은', 26, None))"
      ]
     },
     "execution_count": 37,
     "metadata": {},
     "output_type": "execute_result"
    }
   ],
   "source": [
    "pagination(1)"
   ]
  },
  {
   "cell_type": "code",
   "execution_count": 38,
   "metadata": {},
   "outputs": [
    {
     "data": {
      "text/plain": [
       "'%s,%s,%s'"
      ]
     },
     "execution_count": 38,
     "metadata": {},
     "output_type": "execute_result"
    }
   ],
   "source": [
    "','.join(['%s']*3)"
   ]
  },
  {
   "cell_type": "code",
   "execution_count": 40,
   "metadata": {},
   "outputs": [],
   "source": [
    "def delete(target_ids):\n",
    "    with conn.cursor() as cur: \n",
    "        sql = 'DELETE FROM `Students` WHERE StudentID IN (' +\\\n",
    "             ','.join(['%s'] * len(target_ids)) + ')'\n",
    "        cur.execute(sql, target_ids)\n",
    "\n",
    "    conn.commit()\n",
    "    return\n",
    "\n",
    "delete((2, 5, ))"
   ]
  },
  {
   "cell_type": "code",
   "execution_count": 41,
   "metadata": {},
   "outputs": [],
   "source": [
    "delete((7, ))  # 한 명 지울 때 7만 적어주면 len(7) 이 오류 반환 "
   ]
  },
  {
   "cell_type": "code",
   "execution_count": 42,
   "metadata": {},
   "outputs": [
    {
     "data": {
      "text/plain": [
       "((1, '홍길동', 24, '인천'),\n",
       " (6, '정준화', 27, '서울'),\n",
       " (9, '정우경', None, None),\n",
       " (10, '서지은', 26, None),\n",
       " (11, '정찬영', None, None))"
      ]
     },
     "execution_count": 42,
     "metadata": {},
     "output_type": "execute_result"
    }
   ],
   "source": [
    "pagination(1)"
   ]
  },
  {
   "cell_type": "code",
   "execution_count": 50,
   "metadata": {},
   "outputs": [
    {
     "data": {
      "text/plain": [
       "'abcdc'"
      ]
     },
     "execution_count": 50,
     "metadata": {},
     "output_type": "execute_result"
    }
   ],
   "source": [
    "'        \\n       abcdc     \\n    '.strip()    # 앞뒤로 공백을 지워주는 메서드"
   ]
  },
  {
   "cell_type": "code",
   "execution_count": 51,
   "metadata": {},
   "outputs": [
    {
     "data": {
      "text/plain": [
       "'abcdc   bb'"
      ]
     },
     "execution_count": 51,
     "metadata": {},
     "output_type": "execute_result"
    }
   ],
   "source": [
    "'        \\n       abcdc   bb  \\n    '.strip()    "
   ]
  },
  {
   "cell_type": "code",
   "execution_count": 21,
   "metadata": {},
   "outputs": [],
   "source": [
    "f = open('data.csv', 'w', encoding='utf8')"
   ]
  },
  {
   "cell_type": "code",
   "execution_count": 22,
   "metadata": {},
   "outputs": [
    {
     "data": {
      "text/plain": [
       "<_io.TextIOWrapper name='data.csv' mode='w' encoding='utf8'>"
      ]
     },
     "execution_count": 22,
     "metadata": {},
     "output_type": "execute_result"
    }
   ],
   "source": [
    "f"
   ]
  },
  {
   "cell_type": "code",
   "execution_count": 23,
   "metadata": {},
   "outputs": [
    {
     "data": {
      "text/plain": [
       "5"
      ]
     },
     "execution_count": 23,
     "metadata": {},
     "output_type": "execute_result"
    }
   ],
   "source": [
    "f.write(\"오늘의날씨\")"
   ]
  },
  {
   "cell_type": "code",
   "execution_count": 24,
   "metadata": {},
   "outputs": [],
   "source": [
    "f.close()"
   ]
  },
  {
   "cell_type": "code",
   "execution_count": 27,
   "metadata": {},
   "outputs": [],
   "source": [
    "with open('data.csv', 'r', encoding=\"utf8\") as f:\n",
    "    txt = f.read()"
   ]
  },
  {
   "cell_type": "code",
   "execution_count": 28,
   "metadata": {},
   "outputs": [
    {
     "name": "stdout",
     "output_type": "stream",
     "text": [
      "오늘의날씨\n"
     ]
    }
   ],
   "source": [
    "print(txt)"
   ]
  },
  {
   "cell_type": "markdown",
   "metadata": {},
   "source": [
    "## 실습(PyMySQL)"
   ]
  },
  {
   "cell_type": "markdown",
   "metadata": {},
   "source": [
    "- db에 student 테이블을 생성해주세요.\n",
    "- id (빈 값 허용 안함, 자동 증가)\n",
    "- name (최대 16글자)\n",
    "- email (최대 32글자)\n",
    "- phone (최대 16글자)\n",
    "- major (최대 16글자)\n",
    "\n",
    "- 내 풀이, cmd 프롬포트에서 함.\n",
    "\n",
    "CREATE TABLE student(\n",
    "    id int NOT NULL AUTO_INCREMENT,\n",
    "    name VARCHAR(16),\n",
    "    email VARCHAR(32),\n",
    "    phone VARCHAR(16),\n",
    "    major VARCHAR(16),\n",
    "    PRIMARY KEY(id)\n",
    ");\n"
   ]
  },
  {
   "cell_type": "code",
   "execution_count": null,
   "metadata": {},
   "outputs": [],
   "source": [
    "# jupyter 에서 하는 방법 \n",
    "\n",
    "# - db에 student 테이블을 생성해주세요.\n",
    "# - id (빈 값 허용 안함, 자동 증가)\n",
    "# - name (최대 16글자)\n",
    "# - email (최대 32글자)\n",
    "# - phone (최대 16글자)\n",
    "# - major (최대 16글자)\n",
    "\n",
    "with conn.cursor() as cur:\n",
    "    sql = \"\"\"CREATE TABLE student(\n",
    "        id int NOT NULL AUTO_INCREMENT,\n",
    "        name VARCHAR(16),\n",
    "        email VARCHAR(32),\n",
    "        phone VARCHAR(16),\n",
    "        major VARCHAR(16),\n",
    "        PRIMARY KEY(id)\n",
    "    )\"\"\"\n",
    "    cur.execute(sql, )\n",
    "\n",
    "conn.commit()"
   ]
  },
  {
   "cell_type": "code",
   "execution_count": 1,
   "metadata": {},
   "outputs": [
    {
     "data": {
      "text/plain": [
       "'name,email,phone,major'"
      ]
     },
     "execution_count": 1,
     "metadata": {},
     "output_type": "execute_result"
    }
   ],
   "source": [
    "columns = ['name', 'email', 'phone', 'major']\n",
    "','.join(columns)"
   ]
  },
  {
   "cell_type": "code",
   "execution_count": 57,
   "metadata": {},
   "outputs": [],
   "source": [
    "# - 수강생 중 한 분의 데이터를 DB에 입력해주세요.\n",
    "# - 내 풀이\n",
    "\n",
    "with conn.cursor() as cursor:\n",
    "    sql = 'INSERT INTO `student`(`name`, `email`, `phone`, `major`) \\\n",
    "        VALUES (\"박지영\", \"dkjfna@naver.com\", \"010-1111-1111\", \"글경\")'\n",
    "    cursor.execute(sql)\n",
    "    \n",
    "conn.commit()"
   ]
  },
  {
   "cell_type": "code",
   "execution_count": null,
   "metadata": {},
   "outputs": [],
   "source": [
    "# - 수강생 중 한 분의 데이터를 DB에 입력해주세요.\n",
    "# 다른 풀이\n",
    "\n",
    "table_name = \"student\"\n",
    "columns = ['name', 'email', 'phone', 'major']\n",
    "','.join(columns)\n",
    "\n",
    "values = (\"최재진\", \"jason@fins.ai\", \"01099282799\", \"산업공학\")\n",
    "\n",
    "with conn.cursor() as cur:\n",
    "    ','.join(['%s'] * len(values))\n",
    "    sql = 'INSERT INTO `{}`({}) VALUES ({})'.format(table_name, \n",
    "                                                    ','.join(columns), \n",
    "                                                    ','.join(['%s'] * len(values)))\n",
    "\n",
    "    cur.execute(sql, values)\n",
    "conn.commit()"
   ]
  },
  {
   "cell_type": "code",
   "execution_count": null,
   "metadata": {},
   "outputs": [],
   "source": [
    "# - 수강생 중 한 분의 데이터를 DB에 입력해주세요.\n",
    "# 함수버전\n",
    "\n",
    "def insert(table_name:str, columns:list, values:tuple):\n",
    "    \"\"\"\n",
    "    table_name에 columns항목들에 values를 입력해줍니다.\n",
    "    \"\"\"\n",
    "    try:\n",
    "        with conn.cursor() as cur:\n",
    "            ','.join(['%s'] * len(values))\n",
    "            sql = 'INSERT INTO `{}`({}) VALUES ({})'.format(table_name, \n",
    "                                                            ','.join(columns), \n",
    "                                                            ','.join(['%s'] * len(values)))\n",
    "\n",
    "            cur.execute(sql, values)\n",
    "        conn.commit()\n",
    "        return True\n",
    "    except Exception as e:\n",
    "        print(e)\n",
    "        return False"
   ]
  },
  {
   "cell_type": "code",
   "execution_count": null,
   "metadata": {},
   "outputs": [],
   "source": [
    "table_name = \"student\"\n",
    "columns = ['name', 'email', 'phone', 'major']\n",
    "values = (\"최재진\", \"jason@fins.ai\", \"01099282799\", \"산업공학\")\n",
    "\n",
    "insert(table_name, columns, values)"
   ]
  },
  {
   "cell_type": "code",
   "execution_count": 58,
   "metadata": {},
   "outputs": [],
   "source": [
    "# - 수강생 중 네 분의 데이터를 DB에 동시에 추가해주세요.\n",
    "# 내 풀이\n",
    "\n",
    "with conn.cursor() as cursor:\n",
    "    sql = 'INSERT INTO `student`(`name`, `email`, `phone`, `major`) \\\n",
    "        VALUES (%s, %s, %s, %s)'\n",
    "    cursor.executemany(sql, [\n",
    "        (\"김찬식\", \"kljw@gmail.com\", \"010-2222-2222\", \"전기\"),\n",
    "        (\"박병일\", \"bydoj@gmail.com\", \"010-3333-3333\", \"산업경영\"),\n",
    "        (\"이재혁\", \"leejh@naver.com\", \"010-5555-5555\", \"신소재공학\"),\n",
    "        (\"남현호\", \"namght@gmail.com\", \"010-6666-6666\", \"경영\")\n",
    "    ])\n",
    "\n",
    "conn.commit()\n"
   ]
  },
  {
   "cell_type": "code",
   "execution_count": null,
   "metadata": {},
   "outputs": [],
   "source": [
    "# - 수강생 중 네 분의 데이터를 DB에 동시에 추가해주세요.\n",
    "\n",
    "table_name = \"student\"\n",
    "columns = ['name', 'email', 'phone', 'major']\n",
    "\n",
    "# values = (\"최재진\", \"jason@fins.ai\", \"01099282799\", \"산업공학\")\n",
    "values = [\n",
    "    (\"김도훈\", \"jason@fins.ai\", \"01011112222\", \"산업공학\"),\n",
    "    (\"오미정\", \"jason@fins.ai\", \"01033334444\", \"산업공학\"),\n",
    "    (\"김형석\", \"jason@fins.ai\", \"01055556666\", \"산업공학\"),\n",
    "    (\"차민경\", \"jason@fins.ai\", \"01077778888\", \"산업공학\")\n",
    "]\n",
    "\n",
    "table_name, ','.join(columns), ','.join(['%s'] * len(values[0]))\n",
    "\n",
    "with conn.cursor() as cur:\n",
    "    sql = 'INSERT INTO {}({}) VALUES ({})'.format(table_name, ','.join(columns), ','.join(['%s'] * len(values[0])))\n",
    "    cur.executemany(sql, values)\n",
    "\n",
    "conn.commit()"
   ]
  },
  {
   "cell_type": "code",
   "execution_count": null,
   "metadata": {},
   "outputs": [],
   "source": [
    "# - 수강생 중 네 분의 데이터를 DB에 동시에 추가해주세요.\n",
    "# 함수버전\n",
    "\n",
    "def insert_many(table_name:str, columns: list, values:list):\n",
    "    with conn.cursor() as cur:\n",
    "        sql = 'INSERT INTO {}({}) VALUES ({})'.format(table_name, ','.join(columns), ','.join(['%s'] * len(values[0])))\n",
    "        cur.executemany(sql, values)\n",
    "\n",
    "    conn.commit()"
   ]
  },
  {
   "cell_type": "code",
   "execution_count": 59,
   "metadata": {},
   "outputs": [
    {
     "data": {
      "text/plain": [
       "((1, '박지영', 'dkjfna@naver.com', '010-1111-1111', '글경'),\n",
       " (2, '김찬식', 'kljw@gmail.com', '010-2222-2222', '전기'),\n",
       " (3, '박병일', 'bydoj@gmail.com', '010-3333-3333', '산업경영'),\n",
       " (4, '이재혁', 'leejh@naver.com', '010-5555-5555', '신소재공학'),\n",
       " (5, '남현호', 'namght@gmail.com', '010-6666-6666', '경영'))"
      ]
     },
     "execution_count": 59,
     "metadata": {},
     "output_type": "execute_result"
    }
   ],
   "source": [
    "# - 입력한 전체 데이터를 확인해주세요.\n",
    "# 내 풀이\n",
    "\n",
    "with conn.cursor() as cur:\n",
    "    sql = 'SELECT * FROM student'\n",
    "    cur.execute(sql)\n",
    "    data = cur.fetchall()\n",
    "\n",
    "data"
   ]
  },
  {
   "cell_type": "code",
   "execution_count": null,
   "metadata": {},
   "outputs": [],
   "source": [
    "# - 입력한 전체 데이터를 확인해주세요.\n",
    "\n",
    "columns = [\"id\", 'name']\n",
    "columns = ['*']\n",
    "table_name = \"student\"\n",
    "\n",
    "with conn.cursor() as cur:\n",
    "    sql = \"SELECT {} FROM {}\".format(','.join(columns), table_name)\n",
    "    cur.execute(sql)\n",
    "    data = cur.fetchall()"
   ]
  },
  {
   "cell_type": "code",
   "execution_count": null,
   "metadata": {},
   "outputs": [],
   "source": [
    "data"
   ]
  },
  {
   "cell_type": "code",
   "execution_count": 60,
   "metadata": {},
   "outputs": [],
   "source": [
    "# - 한 수강생분의 이메일이 잘못 입력되었다고 가정하고, 이메일을 수정, DB에 반영해주세요.\n",
    "# 내 풀이\n",
    "\n",
    "with conn.cursor() as cur:\n",
    "    sql = 'UPDATE `student` SET email=%s WHERE id=%s'\n",
    "    cur.execute(sql, (\"byungil@naver.com\", 3))\n",
    "\n",
    "conn.commit()\n"
   ]
  },
  {
   "cell_type": "code",
   "execution_count": null,
   "metadata": {},
   "outputs": [],
   "source": [
    "# - 한 수강생분의 이메일이 잘못 입력되었다고 가정하고, 이메일을 수정, DB에 반영해주세요.\n",
    "\n",
    "table_name = 'student'\n",
    "set_value = \"hyungsuk0815@gmail.com\"\n",
    "target_id = 5\n",
    "\n",
    "with conn.cursor() as cur:\n",
    "    sql = 'UPDATE {} SET email=%s WHERE id={}'.format(\n",
    "        table_name, target_id\n",
    "    )\n",
    "    cur.execute(sql, (set_value, ))\n",
    "conn.commit()"
   ]
  },
  {
   "cell_type": "code",
   "execution_count": 61,
   "metadata": {},
   "outputs": [],
   "source": [
    "# - 수강생 한 분이 취업하셨습니다. DB에서 삭제 해주세요.\n",
    "\n",
    "with conn.cursor() as cur:\n",
    "    sql = 'DELETE FROM `student` WHERE id=%s'\n",
    "    cur.execute(sql, (4, ))\n",
    "\n",
    "conn.commit()"
   ]
  },
  {
   "cell_type": "markdown",
   "metadata": {},
   "source": [
    "## 실습 - 클래스화"
   ]
  },
  {
   "cell_type": "code",
   "execution_count": 65,
   "metadata": {},
   "outputs": [],
   "source": [
    "# 기본 틀\n",
    "\n",
    "class MariaDB:\n",
    "    \"\"\"\n",
    "    MariaDB를 관리하는 클래스입니다.\n",
    "    \"\"\" \n",
    "\n",
    "    def __init__(self, host):\n",
    "        self.host = host\n",
    "\n",
    "        \"다른 함수에서 사용하기 위해 self에 담아준다.\"\n",
    "        self.conn = pymysql.connect(host=host, user=\"\")\n",
    "        return \n",
    "    \n",
    "    def insert(self):\n",
    "        \n",
    "        with self.conn.cursor() as cur:\n",
    "            ...\n",
    "        return\n",
    "    \n",
    "    def insert_many(self):\n",
    "        with self.conn.cursor() as cur:\n",
    "            ...\n",
    "        return \n",
    "    \n",
    "    def select(self):\n",
    "        return\n",
    "    \n",
    "    def update(self):\n",
    "        return "
   ]
  },
  {
   "cell_type": "code",
   "execution_count": 64,
   "metadata": {},
   "outputs": [],
   "source": [
    "# 풀이\n",
    "\n",
    "class MariaDB:\n",
    "    \"\"\"\n",
    "    MariaDB를 관리하는 클래스 입니다.\n",
    "    \"\"\"\n",
    "\n",
    "    def __init__(self, host, user, password, database, charset, port=3306):\n",
    "        self.host = host\n",
    "        self.port = int(port)\n",
    "\n",
    "        \"다른함수에서 사용하기위해 self에 담아준다.\"\n",
    "        self.conn = pymysql.connect(\n",
    "                                host=host, \n",
    "                                user=user, \n",
    "                                password=password, \n",
    "                                database=database,\n",
    "                                charset=charset, \n",
    "                                port=port)\n",
    "        return \n",
    "    \n",
    "    def insert(self, table_name:str, columns:list, values:tuple):\n",
    "        with self.conn.cursor() as cur:\n",
    "            sql = 'INSERT INTO `{}`({}) VALUES ({})'.format(table_name, \n",
    "                                                            ','.join(columns), \n",
    "                                                            ','.join(['%s'] * len(values)))\n",
    "\n",
    "            cur.execute(sql, values)\n",
    "        self.conn.commit()\n",
    "        return True\n",
    "    \n",
    "    def insert_many(self, table_name:str, columns: list, values:list):\n",
    "        with self.conn.cursor() as cur:\n",
    "            sql = 'INSERT INTO {}({}) VALUES ({})'.format(table_name, ','.join(columns), ','.join(['%s'] * len(values[0])))\n",
    "            cur.executemany(sql, values)\n",
    "\n",
    "        self.conn.commit()\n",
    "        return\n",
    "    \n",
    "    def select(self, table_name, columns, page=None, page_size=10): # +pagination 기능 추가\n",
    "        if page:\n",
    "            limit = page_size\n",
    "            offset = page_size * (page-1)\n",
    "            with self.conn.cursor() as cur:\n",
    "                sql = 'SELECT {} FROM {} LIMIT %s OFFSET %s'.format(','.join(columns), table_name)\n",
    "                cur.execute(sql, (limit, offset))\n",
    "                data = cur.fetchall()\n",
    "        else:\n",
    "            with self.conn.cursor() as cur:\n",
    "                sql = \"SELECT {} FROM {}\".format(','.join(columns), table_name)\n",
    "                cur.execute(sql)\n",
    "                data = cur.fetchall()\n",
    "\n",
    "        return data\n",
    "    \n",
    "    def update(self, table_name, set_column, set_value, target_id):\n",
    "        with self.conn.cursor() as cur:\n",
    "            sql = 'UPDATE {} SET {}=%s WHERE id={}'.format(\n",
    "                table_name, set_column, target_id\n",
    "            )\n",
    "            cur.execute(sql, (set_value, ))\n",
    "        self.conn.commit()\n",
    "        return"
   ]
  },
  {
   "cell_type": "code",
   "execution_count": 66,
   "metadata": {},
   "outputs": [],
   "source": [
    "# 연결 테스트\n",
    "db = MariaDB(**db_config) # test\n",
    "db1 = MariaDB(**db_config) # production"
   ]
  },
  {
   "cell_type": "code",
   "execution_count": 67,
   "metadata": {},
   "outputs": [
    {
     "data": {
      "text/plain": [
       "<pymysql.connections.Connection at 0x1dee97fbaf0>"
      ]
     },
     "execution_count": 67,
     "metadata": {},
     "output_type": "execute_result"
    }
   ],
   "source": [
    "db.conn"
   ]
  },
  {
   "cell_type": "code",
   "execution_count": 68,
   "metadata": {},
   "outputs": [
    {
     "data": {
      "text/plain": [
       "<pymysql.connections.Connection at 0x1dee97c0af0>"
      ]
     },
     "execution_count": 68,
     "metadata": {},
     "output_type": "execute_result"
    }
   ],
   "source": [
    "db1.conn"
   ]
  },
  {
   "cell_type": "code",
   "execution_count": 69,
   "metadata": {},
   "outputs": [
    {
     "ename": "TypeError",
     "evalue": "insert() missing 3 required positional arguments: 'table_name', 'columns', and 'values'",
     "output_type": "error",
     "traceback": [
      "\u001b[1;31m---------------------------------------------------------------------------\u001b[0m",
      "\u001b[1;31mTypeError\u001b[0m                                 Traceback (most recent call last)",
      "Cell \u001b[1;32mIn[69], line 2\u001b[0m\n\u001b[0;32m      1\u001b[0m \u001b[39m# insert 테스트\u001b[39;00m\n\u001b[1;32m----> 2\u001b[0m db\u001b[39m.\u001b[39;49minsert()\n",
      "\u001b[1;31mTypeError\u001b[0m: insert() missing 3 required positional arguments: 'table_name', 'columns', and 'values'"
     ]
    }
   ],
   "source": [
    "# insert 테스트\n",
    "db.insert()"
   ]
  },
  {
   "cell_type": "code",
   "execution_count": 70,
   "metadata": {},
   "outputs": [
    {
     "ename": "TypeError",
     "evalue": "insert_many() missing 3 required positional arguments: 'table_name', 'columns', and 'values'",
     "output_type": "error",
     "traceback": [
      "\u001b[1;31m---------------------------------------------------------------------------\u001b[0m",
      "\u001b[1;31mTypeError\u001b[0m                                 Traceback (most recent call last)",
      "Cell \u001b[1;32mIn[70], line 2\u001b[0m\n\u001b[0;32m      1\u001b[0m \u001b[39m# insert_many 테스트\u001b[39;00m\n\u001b[1;32m----> 2\u001b[0m db\u001b[39m.\u001b[39;49minsert_many()\n",
      "\u001b[1;31mTypeError\u001b[0m: insert_many() missing 3 required positional arguments: 'table_name', 'columns', and 'values'"
     ]
    }
   ],
   "source": [
    "# insert_many 테스트\n",
    "db.insert_many()"
   ]
  },
  {
   "cell_type": "code",
   "execution_count": 71,
   "metadata": {},
   "outputs": [
    {
     "ename": "TypeError",
     "evalue": "select() missing 2 required positional arguments: 'table_name' and 'columns'",
     "output_type": "error",
     "traceback": [
      "\u001b[1;31m---------------------------------------------------------------------------\u001b[0m",
      "\u001b[1;31mTypeError\u001b[0m                                 Traceback (most recent call last)",
      "Cell \u001b[1;32mIn[71], line 2\u001b[0m\n\u001b[0;32m      1\u001b[0m \u001b[39m# select 테스트\u001b[39;00m\n\u001b[1;32m----> 2\u001b[0m db\u001b[39m.\u001b[39;49mselect()\n",
      "\u001b[1;31mTypeError\u001b[0m: select() missing 2 required positional arguments: 'table_name' and 'columns'"
     ]
    }
   ],
   "source": [
    "# select 테스트\n",
    "db.select()"
   ]
  },
  {
   "cell_type": "code",
   "execution_count": null,
   "metadata": {},
   "outputs": [],
   "source": [
    "# update 테스트\n",
    "db.update()"
   ]
  },
  {
   "cell_type": "code",
   "execution_count": null,
   "metadata": {},
   "outputs": [],
   "source": [
    "db.select()"
   ]
  }
 ],
 "metadata": {
  "kernelspec": {
   "display_name": "Python 3",
   "language": "python",
   "name": "python3"
  },
  "language_info": {
   "codemirror_mode": {
    "name": "ipython",
    "version": 3
   },
   "file_extension": ".py",
   "mimetype": "text/x-python",
   "name": "python",
   "nbconvert_exporter": "python",
   "pygments_lexer": "ipython3",
   "version": "3.9.17"
  },
  "orig_nbformat": 4
 },
 "nbformat": 4,
 "nbformat_minor": 2
}
