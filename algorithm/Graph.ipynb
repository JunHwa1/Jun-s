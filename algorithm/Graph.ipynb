{
 "cells": [
  {
   "attachments": {},
   "cell_type": "markdown",
   "metadata": {},
   "source": [
    "## 그래프(Graph)"
   ]
  },
  {
   "cell_type": "code",
   "execution_count": 123,
   "metadata": {},
   "outputs": [],
   "source": [
    "input_text = \"\"\"1 2 6\n",
    "1 4 4\n",
    "2 3 5\n",
    "2 4 3\n",
    "2 5 7\n",
    "2 6 8\n",
    "3 6 8\n",
    "4 5 9\n",
    "5 6 11\"\"\" # start_node end_node cost"
   ]
  },
  {
   "cell_type": "code",
   "execution_count": 124,
   "metadata": {},
   "outputs": [
    {
     "data": {
      "text/plain": [
       "[[], [(2, 6), (4, 4)], [(1, 6)], [], [(1, 4)], [], []]"
      ]
     },
     "execution_count": 124,
     "metadata": {},
     "output_type": "execute_result"
    }
   ],
   "source": [
    "# 1. list를 사용하는 경우\n",
    "[[], [(2, 6), (4, 4)], [(1, 6), ], [], [(1, 4), ], [], []]"
   ]
  },
  {
   "cell_type": "code",
   "execution_count": 125,
   "metadata": {},
   "outputs": [],
   "source": [
    "edges = [[] for _ in range(6+1)]"
   ]
  },
  {
   "cell_type": "code",
   "execution_count": 126,
   "metadata": {},
   "outputs": [
    {
     "data": {
      "text/plain": [
       "[[], [], [], [], [], [], []]"
      ]
     },
     "execution_count": 126,
     "metadata": {},
     "output_type": "execute_result"
    }
   ],
   "source": [
    "edges"
   ]
  },
  {
   "cell_type": "code",
   "execution_count": 127,
   "metadata": {},
   "outputs": [
    {
     "data": {
      "text/plain": [
       "[[],\n",
       " [(2, 6), (4, 4)],\n",
       " [(1, 6), (3, 5), (4, 3), (5, 7), (6, 8)],\n",
       " [(2, 5), (6, 8)],\n",
       " [(1, 4), (2, 3), (5, 9)],\n",
       " [(2, 7), (4, 9), (6, 11)],\n",
       " [(2, 8), (3, 8), (5, 11)]]"
      ]
     },
     "execution_count": 127,
     "metadata": {},
     "output_type": "execute_result"
    }
   ],
   "source": [
    "for line in input_text.split('\\n'):\n",
    "    s, e, cost = map(int, line.split(' '))\n",
    "    # 1 2 6\n",
    "    edges[s].append((e, cost))\n",
    "    # 양방향\n",
    "    edges[e].append((s, cost))\n",
    "edges"
   ]
  },
  {
   "cell_type": "code",
   "execution_count": 128,
   "metadata": {},
   "outputs": [],
   "source": [
    "temp = [1, 2, 3]"
   ]
  },
  {
   "cell_type": "code",
   "execution_count": 129,
   "metadata": {},
   "outputs": [],
   "source": [
    "temp2 = temp.append(4) # return 값 없이 원본 수정"
   ]
  },
  {
   "cell_type": "code",
   "execution_count": 130,
   "metadata": {},
   "outputs": [
    {
     "data": {
      "text/plain": [
       "[1, 2, 3, 4]"
      ]
     },
     "execution_count": 130,
     "metadata": {},
     "output_type": "execute_result"
    }
   ],
   "source": [
    "temp"
   ]
  },
  {
   "cell_type": "code",
   "execution_count": 131,
   "metadata": {},
   "outputs": [
    {
     "data": {
      "text/plain": [
       "{1: [(2, 6), (4, 4)],\n",
       " 2: [(1, 6), (3, 5), (4, 3), (5, 7), (6, 8)],\n",
       " 4: [(1, 4), (2, 3), (5, 9)],\n",
       " 3: [(2, 5), (6, 8)],\n",
       " 5: [(2, 7), (4, 9), (6, 11)],\n",
       " 6: [(2, 8), (3, 8), (5, 11)]}"
      ]
     },
     "execution_count": 131,
     "metadata": {},
     "output_type": "execute_result"
    }
   ],
   "source": [
    "# dictionary\n",
    "\n",
    "edges = {} # node: [] for node in range(6 + 1)\n",
    "for line in input_text.split('\\n'):\n",
    "    s, e, cost = map(int, line.split(' '))\n",
    "    # 1 2 6\n",
    "    temp = edges.get(s, [])\n",
    "    temp.append((e, cost))\n",
    "    edges[s] = temp\n",
    "\n",
    "    # 양방향\n",
    "    temp = edges.get(e, [])\n",
    "    temp.append((s, cost))\n",
    "    edges[e] = temp\n",
    "edges"
   ]
  },
  {
   "cell_type": "code",
   "execution_count": 132,
   "metadata": {},
   "outputs": [
    {
     "name": "stdout",
     "output_type": "stream",
     "text": [
      "['1 2 6', '1 4 4', '2 3 5', '2 4 3', '2 5 7', '2 6 8', '3 6 8', '4 5 9', '5 6 11']\n"
     ]
    }
   ],
   "source": [
    "print(input_text.split('\\n'))"
   ]
  },
  {
   "cell_type": "code",
   "execution_count": 133,
   "metadata": {},
   "outputs": [
    {
     "data": {
      "text/plain": [
       "[(1, 2, 6),\n",
       " (1, 4, 4),\n",
       " (2, 3, 5),\n",
       " (2, 4, 3),\n",
       " (2, 5, 7),\n",
       " (2, 6, 8),\n",
       " (3, 6, 8),\n",
       " (4, 5, 9),\n",
       " (5, 6, 11)]"
      ]
     },
     "execution_count": 133,
     "metadata": {},
     "output_type": "execute_result"
    }
   ],
   "source": [
    "edges = []\n",
    "for line in input_text.split('\\n'):\n",
    "    s, e, cost = map(int, line.split(' '))\n",
    "    # s, e, cost = int(s), int(e), int(cost)\n",
    "    edges.append((s, e, cost))\n",
    "\n",
    "edges"
   ]
  },
  {
   "cell_type": "code",
   "execution_count": 134,
   "metadata": {},
   "outputs": [],
   "source": [
    "edges.sort()"
   ]
  },
  {
   "cell_type": "code",
   "execution_count": 135,
   "metadata": {},
   "outputs": [],
   "source": [
    "edges = sorted(edges, key=lambda x : x[2])"
   ]
  },
  {
   "cell_type": "code",
   "execution_count": 136,
   "metadata": {},
   "outputs": [
    {
     "data": {
      "text/plain": [
       "[(2, 4, 3),\n",
       " (1, 4, 4),\n",
       " (2, 3, 5),\n",
       " (1, 2, 6),\n",
       " (2, 5, 7),\n",
       " (2, 6, 8),\n",
       " (3, 6, 8),\n",
       " (4, 5, 9),\n",
       " (5, 6, 11)]"
      ]
     },
     "execution_count": 136,
     "metadata": {},
     "output_type": "execute_result"
    }
   ],
   "source": [
    "edges"
   ]
  },
  {
   "cell_type": "code",
   "execution_count": 137,
   "metadata": {},
   "outputs": [
    {
     "data": {
      "text/plain": [
       "[0, 1, 2, 3, 4, 5, 6]"
      ]
     },
     "execution_count": 137,
     "metadata": {},
     "output_type": "execute_result"
    }
   ],
   "source": [
    "graph_cost = 0\n",
    "parents = [i for i in range(6+1)]\n",
    "parents"
   ]
  },
  {
   "cell_type": "code",
   "execution_count": 138,
   "metadata": {},
   "outputs": [],
   "source": [
    "def find_parent(node, parents):\n",
    "    # 부모 노드와 내 노드 번호가 같으면,\n",
    "    if node == parents[node]:\n",
    "        # 노드 번호 반환\n",
    "        return node\n",
    "\n",
    "    return find_parent(parents[node], parents)"
   ]
  },
  {
   "cell_type": "code",
   "execution_count": 139,
   "metadata": {},
   "outputs": [
    {
     "name": "stdout",
     "output_type": "stream",
     "text": [
      "노드 2 4\n",
      "비용 3\n",
      "연결상태 [0, 1, 2, 3, 4, 5, 6]\n",
      "s의 부모노드 2\n",
      "e의 부모노드 4\n",
      "노드 1 4\n",
      "비용 4\n",
      "연결상태 [0, 1, 2, 3, 2, 5, 6]\n",
      "s의 부모노드 1\n",
      "e의 부모노드 2\n",
      "노드 2 3\n",
      "비용 5\n",
      "연결상태 [0, 1, 1, 3, 2, 5, 6]\n",
      "s의 부모노드 1\n",
      "e의 부모노드 3\n",
      "노드 1 2\n",
      "비용 6\n",
      "연결상태 [0, 1, 1, 1, 2, 5, 6]\n",
      "s의 부모노드 1\n",
      "e의 부모노드 1\n",
      "노드 2 5\n",
      "비용 7\n",
      "연결상태 [0, 1, 1, 1, 2, 5, 6]\n",
      "s의 부모노드 1\n",
      "e의 부모노드 5\n",
      "노드 2 6\n",
      "비용 8\n",
      "연결상태 [0, 1, 1, 1, 2, 1, 6]\n",
      "s의 부모노드 1\n",
      "e의 부모노드 6\n",
      "노드 3 6\n",
      "비용 8\n",
      "연결상태 [0, 1, 1, 1, 2, 1, 1]\n",
      "s의 부모노드 1\n",
      "e의 부모노드 1\n",
      "노드 4 5\n",
      "비용 9\n",
      "연결상태 [0, 1, 1, 1, 2, 1, 1]\n",
      "s의 부모노드 1\n",
      "e의 부모노드 1\n",
      "노드 5 6\n",
      "비용 11\n",
      "연결상태 [0, 1, 1, 1, 2, 1, 1]\n",
      "s의 부모노드 1\n",
      "e의 부모노드 1\n"
     ]
    }
   ],
   "source": [
    "for edge in edges:\n",
    "    s, e, cost = edge # unpacking\n",
    "\n",
    "    print('노드', s, e)\n",
    "    print('비용', cost)\n",
    "    print('연결상태', str(parents))\n",
    "\n",
    "    print('s의 부모노드', find_parent(s, parents))\n",
    "    print('e의 부모노드', find_parent(e, parents))\n",
    "\n",
    "    s = find_parent(s, parents) # 1의 부모노드는 1\n",
    "    e = find_parent(e, parents) # 4의 부모노드는 2 -> 2\n",
    "\n",
    "    # 서로 다르다 = 사이클이 발생하지 않는다. = 연결할 수 있다. (Union)\n",
    "    if parents[s] != parents[e]:\n",
    "        graph_cost += cost\n",
    "        if s > e: # s노드가 e보다 크면,\n",
    "            parents[s] = e # s노드의 부모노드를 e로 바꿔준다.\n",
    "        else:\n",
    "            parents[e] = s"
   ]
  },
  {
   "cell_type": "code",
   "execution_count": 140,
   "metadata": {},
   "outputs": [
    {
     "name": "stdout",
     "output_type": "stream",
     "text": [
      "27\n"
     ]
    },
    {
     "data": {
      "text/plain": [
       "[0, 1, 1, 1, 2, 1, 1]"
      ]
     },
     "execution_count": 140,
     "metadata": {},
     "output_type": "execute_result"
    }
   ],
   "source": [
    "print(graph_cost)\n",
    "parents"
   ]
  },
  {
   "cell_type": "code",
   "execution_count": 141,
   "metadata": {},
   "outputs": [
    {
     "data": {
      "text/plain": [
       "[0, 1, 1, 1, 2, 1, 1]"
      ]
     },
     "execution_count": 141,
     "metadata": {},
     "output_type": "execute_result"
    }
   ],
   "source": [
    "parents"
   ]
  },
  {
   "cell_type": "code",
   "execution_count": 142,
   "metadata": {},
   "outputs": [
    {
     "data": {
      "text/plain": [
       "1"
      ]
     },
     "execution_count": 142,
     "metadata": {},
     "output_type": "execute_result"
    }
   ],
   "source": [
    "find_parent(4, parents)"
   ]
  },
  {
   "cell_type": "code",
   "execution_count": 143,
   "metadata": {},
   "outputs": [],
   "source": [
    "input_text = \"\"\"5 6\n",
    "1\n",
    "5 1 1\n",
    "1 2 2\n",
    "1 3 3\n",
    "2 3 4\n",
    "2 4 5\n",
    "3 4 6\"\"\""
   ]
  },
  {
   "cell_type": "code",
   "execution_count": 144,
   "metadata": {},
   "outputs": [],
   "source": [
    "input_list = input_text.split('\\n')"
   ]
  },
  {
   "cell_type": "code",
   "execution_count": 145,
   "metadata": {},
   "outputs": [
    {
     "data": {
      "text/plain": [
       "['5 6', '1', '5 1 1', '1 2 2', '1 3 3', '2 3 4', '2 4 5', '3 4 6']"
      ]
     },
     "execution_count": 145,
     "metadata": {},
     "output_type": "execute_result"
    }
   ],
   "source": [
    "input_list"
   ]
  },
  {
   "cell_type": "code",
   "execution_count": 146,
   "metadata": {},
   "outputs": [
    {
     "data": {
      "text/plain": [
       "['5 1 1', '1 2 2', '1 3 3', '2 3 4', '2 4 5', '3 4 6']"
      ]
     },
     "execution_count": 146,
     "metadata": {},
     "output_type": "execute_result"
    }
   ],
   "source": [
    "input_list[0] # 노드 개수랑, 간선 개수\n",
    "input_list[1] # 시작 노드\n",
    "input_list[2:] # 간선들"
   ]
  },
  {
   "cell_type": "code",
   "execution_count": 147,
   "metadata": {},
   "outputs": [],
   "source": [
    "N, V = map(int, input_list[0].split())\n",
    "start_node = int(input_list[1])"
   ]
  },
  {
   "cell_type": "code",
   "execution_count": 148,
   "metadata": {},
   "outputs": [
    {
     "data": {
      "text/plain": [
       "(5, 6, 1)"
      ]
     },
     "execution_count": 148,
     "metadata": {},
     "output_type": "execute_result"
    }
   ],
   "source": [
    "N, V, start_node"
   ]
  },
  {
   "cell_type": "code",
   "execution_count": 149,
   "metadata": {},
   "outputs": [],
   "source": [
    "# **단방향** 엣지 딕셔너리 만들기\n",
    "edges = {node: [] for node in range(N+1)}\n",
    "# ex)\n",
    "# edges = {1: [(2, 2), (3, 3)], 2: [(3, 4), (4, 5)], ...}\n",
    "for line in input_list[2:]:\n",
    "    s, e, cost = map(int, line.split())\n",
    "    edges[s].append((e, cost))"
   ]
  },
  {
   "cell_type": "code",
   "execution_count": 150,
   "metadata": {},
   "outputs": [
    {
     "data": {
      "text/plain": [
       "{0: [],\n",
       " 1: [(2, 2), (3, 3)],\n",
       " 2: [(3, 4), (4, 5)],\n",
       " 3: [(4, 6)],\n",
       " 4: [],\n",
       " 5: [(1, 1)]}"
      ]
     },
     "execution_count": 150,
     "metadata": {},
     "output_type": "execute_result"
    }
   ],
   "source": [
    "edges"
   ]
  },
  {
   "cell_type": "code",
   "execution_count": 151,
   "metadata": {},
   "outputs": [
    {
     "data": {
      "text/plain": [
       "[1000000000.0, 0, 1000000000.0, 1000000000.0, 1000000000.0, 1000000000.0]"
      ]
     },
     "execution_count": 151,
     "metadata": {},
     "output_type": "execute_result"
    }
   ],
   "source": [
    "distances = [1e9] * (N+1) # 최소비용을 찾는 문제는 양의 무한대로 초기화\n",
    "\n",
    "# 시작 노드는 거리가 0\n",
    "distances[start_node] = 0\n",
    "\n",
    "distances"
   ]
  },
  {
   "cell_type": "code",
   "execution_count": 152,
   "metadata": {},
   "outputs": [],
   "source": [
    "from collections import deque"
   ]
  },
  {
   "cell_type": "code",
   "execution_count": 153,
   "metadata": {},
   "outputs": [],
   "source": [
    "queue = deque(edges[start_node])"
   ]
  },
  {
   "cell_type": "code",
   "execution_count": 154,
   "metadata": {},
   "outputs": [
    {
     "data": {
      "text/plain": [
       "deque([(2, 2), (3, 3)])"
      ]
     },
     "execution_count": 154,
     "metadata": {},
     "output_type": "execute_result"
    }
   ],
   "source": [
    "queue"
   ]
  },
  {
   "cell_type": "code",
   "execution_count": 155,
   "metadata": {},
   "outputs": [
    {
     "data": {
      "text/plain": [
       "[1000000000.0, 0, 1000000000.0, 1000000000.0, 1000000000.0, 1000000000.0]"
      ]
     },
     "execution_count": 155,
     "metadata": {},
     "output_type": "execute_result"
    }
   ],
   "source": [
    "distances"
   ]
  },
  {
   "cell_type": "code",
   "execution_count": 156,
   "metadata": {},
   "outputs": [],
   "source": [
    "# queue.popleft()"
   ]
  },
  {
   "cell_type": "code",
   "execution_count": 160,
   "metadata": {},
   "outputs": [],
   "source": [
    "# 처리해야하는 로직들?\n",
    "while queue:\n",
    "    e, cost = queue.popleft()\n",
    "\n",
    "    # 현재 end node로 가는 distance가 cost보다 작으면,\n",
    "    # continue\n",
    "    if distances[e] <= cost:\n",
    "        continue\n",
    "\n",
    "    # 더 작다는 것이니까 end_node로 가는 cost로 최신화\n",
    "    distances[e] = cost\n",
    "\n",
    "    # 내 비용이 더 작으면?\n",
    "    for next_node, next_cost in edges[e]: # 그 다음 갈 수 있는 길들\n",
    "        # 내 edge들을 추가 -> queue에\n",
    "        # queue에 추가하기 전에 처리해야 할 것?? (내가 지나간 비용을 추가 !)\n",
    "        distance = cost + next_cost # next_node로 가는 거리\n",
    "\n",
    "        # 이 비용이, 해당 3, 4번노드로 가는 거리보다 작을때만 추가\n",
    "        if distances[next_node] > distance:\n",
    "            queue.append((next_node, distance))\n",
    "\n",
    "            # 추가하고나서?\n",
    "            # distances[end_node] = 2 + 4 비용 최신화"
   ]
  },
  {
   "cell_type": "code",
   "execution_count": 161,
   "metadata": {},
   "outputs": [
    {
     "data": {
      "text/plain": [
       "[0, 2, 3, 7, 1000000000.0]"
      ]
     },
     "execution_count": 161,
     "metadata": {},
     "output_type": "execute_result"
    }
   ],
   "source": [
    "distances[1:]"
   ]
  },
  {
   "cell_type": "code",
   "execution_count": 159,
   "metadata": {},
   "outputs": [
    {
     "ename": "SyntaxError",
     "evalue": "invalid syntax (549939743.py, line 2)",
     "output_type": "error",
     "traceback": [
      "\u001b[1;36m  Cell \u001b[1;32mIn[159], line 2\u001b[1;36m\u001b[0m\n\u001b[1;33m    [(3, 4), (4, 5)] -> [(3, 6), (4, 7)]\u001b[0m\n\u001b[1;37m                     ^\u001b[0m\n\u001b[1;31mSyntaxError\u001b[0m\u001b[1;31m:\u001b[0m invalid syntax\n"
     ]
    }
   ],
   "source": [
    "# 2번 노드에서 갈 수 있는 곳\n",
    "[(3, 4), (4, 5)] -> [(3, 6), (4, 7)]"
   ]
  },
  {
   "cell_type": "code",
   "execution_count": 162,
   "metadata": {},
   "outputs": [
    {
     "data": {
      "text/plain": [
       "deque([])"
      ]
     },
     "execution_count": 162,
     "metadata": {},
     "output_type": "execute_result"
    }
   ],
   "source": [
    "queue"
   ]
  },
  {
   "cell_type": "code",
   "execution_count": null,
   "metadata": {},
   "outputs": [],
   "source": []
  }
 ],
 "metadata": {
  "kernelspec": {
   "display_name": "Python 3",
   "language": "python",
   "name": "python3"
  },
  "language_info": {
   "codemirror_mode": {
    "name": "ipython",
    "version": 3
   },
   "file_extension": ".py",
   "mimetype": "text/x-python",
   "name": "python",
   "nbconvert_exporter": "python",
   "pygments_lexer": "ipython3",
   "version": "3.11.4"
  },
  "orig_nbformat": 4
 },
 "nbformat": 4,
 "nbformat_minor": 2
}
