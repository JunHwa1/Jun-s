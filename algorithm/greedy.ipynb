{
 "cells": [
  {
   "attachments": {},
   "cell_type": "markdown",
   "metadata": {},
   "source": [
    "## 알고리즘을 위한 셋팅"
   ]
  },
  {
   "cell_type": "code",
   "execution_count": 2,
   "metadata": {},
   "outputs": [
    {
     "name": "stdout",
     "output_type": "stream",
     "text": [
      "hello world\n"
     ]
    }
   ],
   "source": [
    "print(\"hello world\")"
   ]
  },
  {
   "cell_type": "code",
   "execution_count": 4,
   "metadata": {},
   "outputs": [],
   "source": [
    "# 방법1\n",
    "# 500, 100, 50, 10\n",
    "def solution(N=1260):\n",
    "    answer = 0\n",
    "    # 전체 로직\n",
    "    # 1. 가장 큰 단위의 동전으로 거슬러 줄 수 있는 최대 동전 개수를 구한다.\n",
    "    now_coin = 500 \n",
    "    while N >= now_coin: # 남은 금액이 현재 코인보다 클 때 동안만\n",
    "        N -= now_coin # 남은 금액\n",
    "        answer += 1 # 코인을 하나 사용\n",
    "\n",
    "    print('---500원---')    \n",
    "    print('남은 금액', N)\n",
    "    print('사용한 동전 개수',answer) \n",
    "\n",
    "\n",
    "    # 2. 그것을 정답에 더해주고, 남은 금액에 대해서 다음 단위의 코인을 가지고 1의 과정을 반복한다. \n",
    "    now_coin = 100\n",
    "    while N >= now_coin:\n",
    "        N -= now_coin # 남은 금액\n",
    "        answer += 1 # 코인을 하나 사용\n",
    "\n",
    "    print('---100원---')    \n",
    "    print('남은 금액', N)\n",
    "    print('사용한 동전 개수',answer) \n",
    "\n",
    "    now_coin = 50\n",
    "    while N >= now_coin:\n",
    "        N -= now_coin # 남은 금액\n",
    "        answer += 1 # 코인을 하나 사용\n",
    "\n",
    "    print('---50원---')    \n",
    "    print('남은 금액', N)\n",
    "    print('사용한 동전 개수',answer) \n",
    "    \n",
    "    now_coin = 10\n",
    "    while N >= now_coin:\n",
    "        N -= now_coin # 남은 금액\n",
    "        answer += 1 # 코인을 하나 사용\n",
    "\n",
    "    print('---10원---')    \n",
    "    print('남은 금액', N)\n",
    "    print('사용한 동전 개수',answer) \n",
    "\n",
    "    # 3. 10원짜리까지 진행하고 정답을 반환한다.\n",
    "    return answer"
   ]
  },
  {
   "cell_type": "code",
   "execution_count": 5,
   "metadata": {},
   "outputs": [],
   "source": [
    "# 방법2\n",
    "def solution(N):\n",
    "    answer = 0\n",
    "    coins = [500, 100, 50, 10]  # 순서 중요\n",
    "\n",
    "    for now_coin in coins:\n",
    "        while N >= now_coin:\n",
    "            N -= now_coin # 남은 금액\n",
    "            answer += 1 \n",
    "        \n",
    "        print(f'---{now_coin}원---')    \n",
    "        print('남은 금액', N)\n",
    "        print('사용한 동전 개수',answer) \n",
    "\n",
    "\n",
    "    return answer"
   ]
  },
  {
   "cell_type": "code",
   "execution_count": 6,
   "metadata": {},
   "outputs": [],
   "source": [
    "# 방법3\n",
    "def solution(N):\n",
    "    answer = 0\n",
    "    coins = [500, 100, 50, 10]  # 순서 중요\n",
    "\n",
    "    for now_coin in coins:\n",
    "        # //, % 연산자\n",
    "        answer += N // now_coin  # 나눈 몫 = 사용한 동전 개수\n",
    "        N %= now_coin   # 나눈 나머지 = 남은 금액\n",
    "        \n",
    "        print(f'---{now_coin}원---')    \n",
    "        print('남은 금액', N)\n",
    "        print('사용한 동전 개수',answer) \n",
    "\n",
    "\n",
    "    return answer"
   ]
  },
  {
   "attachments": {},
   "cell_type": "markdown",
   "metadata": {},
   "source": [
    "### TDD\n",
    "- 테스트 주도형 개발방식"
   ]
  },
  {
   "cell_type": "code",
   "execution_count": 7,
   "metadata": {},
   "outputs": [
    {
     "name": "stdout",
     "output_type": "stream",
     "text": [
      "---500원---\n",
      "남은 금액 260\n",
      "사용한 동전 개수 2\n",
      "---100원---\n",
      "남은 금액 60\n",
      "사용한 동전 개수 4\n",
      "---50원---\n",
      "남은 금액 10\n",
      "사용한 동전 개수 5\n",
      "---10원---\n",
      "남은 금액 0\n",
      "사용한 동전 개수 6\n",
      "테스트 성공\n"
     ]
    }
   ],
   "source": [
    "if solution(1260) == 6:\n",
    "    print('테스트 성공')\n",
    "else:\n",
    "    print('테스트 실패')\n"
   ]
  },
  {
   "cell_type": "code",
   "execution_count": 8,
   "metadata": {},
   "outputs": [
    {
     "name": "stdout",
     "output_type": "stream",
     "text": [
      "---500원---\n",
      "남은 금액 260\n",
      "사용한 동전 개수 2\n",
      "---100원---\n",
      "남은 금액 60\n",
      "사용한 동전 개수 4\n",
      "---50원---\n",
      "남은 금액 10\n",
      "사용한 동전 개수 5\n",
      "---10원---\n",
      "남은 금액 0\n",
      "사용한 동전 개수 6\n"
     ]
    }
   ],
   "source": [
    "assert solution(1260) == 6, \"테스트 실패\""
   ]
  },
  {
   "attachments": {},
   "cell_type": "markdown",
   "metadata": {},
   "source": [
    "### 체육복(Lv.1)"
   ]
  },
  {
   "cell_type": "code",
   "execution_count": null,
   "metadata": {},
   "outputs": [],
   "source": []
  },
  {
   "cell_type": "code",
   "execution_count": null,
   "metadata": {},
   "outputs": [],
   "source": []
  },
  {
   "cell_type": "code",
   "execution_count": null,
   "metadata": {},
   "outputs": [],
   "source": []
  }
 ],
 "metadata": {
  "kernelspec": {
   "display_name": "Python 3",
   "language": "python",
   "name": "python3"
  },
  "language_info": {
   "codemirror_mode": {
    "name": "ipython",
    "version": 3
   },
   "file_extension": ".py",
   "mimetype": "text/x-python",
   "name": "python",
   "nbconvert_exporter": "python",
   "pygments_lexer": "ipython3",
   "version": "3.11.4"
  },
  "orig_nbformat": 4
 },
 "nbformat": 4,
 "nbformat_minor": 2
}
