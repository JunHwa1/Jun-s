{
 "cells": [
  {
   "attachments": {},
   "cell_type": "markdown",
   "metadata": {},
   "source": [
    "## 삽입 정렬"
   ]
  },
  {
   "cell_type": "code",
   "execution_count": 66,
   "metadata": {},
   "outputs": [],
   "source": [
    "def solution(array: list):\n",
    "    \n",
    "    # 1) 내가 정렬할 index를 설정한다. 0번째는 확인할 필요가 없으므로, 1부터 시작한다.\n",
    "    i = 1\n",
    "    # 2) 내 앞의 있는 배열을 가장 가까운 곳부터 먼 곳으로 대소비교한다.\n",
    "\n",
    "    j = 0\n",
    "\n",
    "    now_value = array[i] # 현재 값\n",
    "    target_value = array[j] # 비교 대상 값\n",
    "    print('현재 값:', now_value, '인덱스', i)\n",
    "    print('비교 값:', target_value, '인덱스', j)\n",
    "    # 2-1) 나보다 값이 클 경우, 해당 위치의 값과 내 위치의 값을 서로 교환한다.\n",
    "    # 2-2) 나보다 값이 작거나 같을 경우, 교환하지 않고 현재 회차를 종료한다.\n",
    "    if target_value > now_value:\n",
    "        array[i], array[j] = array[j], array[i] # 값 교환 pythonic\n",
    "        i = j\n",
    "        j -= 1\n",
    "    else:\n",
    "        pass\n",
    "\n",
    "    print('현재 값:', array[i], '인덱스', i)\n",
    "    print('비교 값:', array[j], '인덱스', j) # - 인덱스 지원함\n",
    "    if i == 0:\n",
    "        # 다음 회차로 넘어간다.\n",
    "        pass\n",
    "\n",
    "    print(array)\n",
    "    # 3) 정렬을 시작할 index를 1 증가시키고, 2)의 과정을 반복한다.\n",
    "    i = 2\n",
    "    j = 1\n",
    "\n",
    "    now_value = array[i]\n",
    "    target_value = array[j]\n",
    "    if target_value > now_value:\n",
    "        array[i], array[j] = array[j], array[i]\n",
    "        i = j\n",
    "        j -= 1\n",
    "    else:\n",
    "        pass\n",
    "    print(array)\n",
    "    print(i, j)\n",
    "\n",
    "    now_value = array[i]\n",
    "    target_value = array[j]\n",
    "    if target_value > now_value:\n",
    "        array[i], array[j] = array[j], array[i]\n",
    "        i = j\n",
    "        j -= 1\n",
    "    else:\n",
    "        print('값 교환하지 않음')\n",
    "        pass\n",
    "\n",
    "    print(array)\n",
    "    print(i, j)\n",
    "\n",
    "    # 4) 배열의 맨 마지막 index까지 진행하고, 정렬된 배열을 반환한다.\n",
    "\n",
    "    return array"
   ]
  },
  {
   "cell_type": "code",
   "execution_count": 67,
   "metadata": {},
   "outputs": [],
   "source": [
    "def solution(array: list):\n",
    "    \n",
    "    # 1) 내가 정렬할 index를 설정한다. 0번째는 확인할 필요가 없으므로, 1부터 시작한다.\n",
    "    i = 1\n",
    "    # 2) 내 앞의 있는 배열을 가장 가까운 곳부터 먼 곳으로 대소비교한다.\n",
    "    \n",
    "    # range(내 앞의 값부터, -1까지 = 0까지, 1씩 감소)\n",
    "    for j in range(i-1, 0-1, -1):\n",
    "        now_value = array[i] # 현재 값\n",
    "        target_value = array[j] # 비교 대상 값\n",
    "\n",
    "        # 2-1) 나보다 값이 클 경우, 해당 위치의 값과 내 위치의 값을 서로 교환한다.\n",
    "        # 2-2) 나보다 값이 작거나 같을 경우, 교환하지 않고 현재 회차를 종료한다.\n",
    "        if target_value > now_value:\n",
    "            array[i], array[j] = array[j], array[i] # 값 교환 pythonic\n",
    "            i = j # 현재 index를 j로 변경 (앞으로 이동)\n",
    "        else:\n",
    "            break\n",
    "\n",
    "    print(array)\n",
    "\n",
    "    # 3) 정렬을 시작할 index를 1 증가시키고, 2)의 과정을 반복한다.\n",
    "    i = 2\n",
    "\n",
    "    for j in range(i-1, 0-1, -1):\n",
    "        now_value = array[i] # 현재 값\n",
    "        target_value = array[j] # 비교 대상 값\n",
    "\n",
    "        # 2-1) 나보다 값이 클 경우, 해당 위치의 값과 내 위치의 값을 서로 교환한다.\n",
    "        # 2-2) 나보다 값이 작거나 같을 경우, 교환하지 않고 현재 회차를 종료한다.\n",
    "        if target_value > now_value:\n",
    "            array[i], array[j] = array[j], array[i] # 값 교환 pythonic\n",
    "            i = j # 현재 index를 j로 변경 (앞으로 이동)\n",
    "        else:\n",
    "            break\n",
    "\n",
    "    print(array)\n",
    "\n",
    "    i = 3\n",
    "\n",
    "    for j in range(i-1, 0-1, -1):\n",
    "        now_value = array[i] # 현재 값\n",
    "        target_value = array[j] # 비교 대상 값\n",
    "\n",
    "        # 2-1) 나보다 값이 클 경우, 해당 위치의 값과 내 위치의 값을 서로 교환한다.\n",
    "        # 2-2) 나보다 값이 작거나 같을 경우, 교환하지 않고 현재 회차를 종료한다.\n",
    "        if target_value > now_value:\n",
    "            array[i], array[j] = array[j], array[i] # 값 교환 pythonic\n",
    "            i = j # 현재 index를 j로 변경 (앞으로 이동)\n",
    "        else:\n",
    "            break\n",
    "\n",
    "    print(array)\n",
    "\n",
    "    # 4) 배열의 맨 마지막 index까지 진행하고, 정렬된 배열을 반환한다.\n",
    "\n",
    "    return array"
   ]
  },
  {
   "cell_type": "code",
   "execution_count": 68,
   "metadata": {},
   "outputs": [],
   "source": [
    "def solution(array: list):\n",
    "    \n",
    "    # 1) 내가 정렬할 index를 설정한다. 0번째는 확인할 필요가 없으므로, 1부터 시작한다.\n",
    "\n",
    "    for i in range(1, len(array)):\n",
    "        # 2) 내 앞의 있는 배열을 가장 가까운 곳부터 먼 곳으로 대소비교한다.\n",
    "        # range(내 앞의 값부터, -1까지 = 0까지, 1씩 감소)\n",
    "        for j in range(i-1, 0-1, -1):\n",
    "            now_value = array[i] # 현재 값\n",
    "            target_value = array[j] # 비교 대상 값\n",
    "\n",
    "            # 2-1) 나보다 값이 클 경우, 해당 위치의 값과 내 위치의 값을 서로 교환한다.\n",
    "            # 2-2) 나보다 값이 작거나 같을 경우, 교환하지 않고 현재 회차를 종료한다.\n",
    "            if target_value > now_value:\n",
    "                array[i], array[j] = array[j], array[i] # 값 교환 pythonic\n",
    "                i = j # 현재 index를 j로 변경 (앞으로 이동)\n",
    "            else:\n",
    "                break\n",
    "\n",
    "        print(array)\n",
    "\n",
    "    # 3) 정렬을 시작할 index를 1 증가시키고, 2)의 과정을 반복한다.\n",
    "    # 4) 배열의 맨 마지막 index까지 진행하고, 정렬된 배열을 반환한다.\n",
    "    return array"
   ]
  },
  {
   "cell_type": "code",
   "execution_count": 69,
   "metadata": {},
   "outputs": [],
   "source": [
    "# 리스트가 같은지 체크 \n",
    "# 파이썬에서는 배열의 요소비교를 지원하기 때문에 객체비교가 필요하고,\n",
    "# 다른 언어에서는 요소 비교시 아래의 함수를 활용해 볼 수 있음.\n",
    "arr1 = [0, 1, 2, 3, 4, 5]\n",
    "arr2 = [0, 1, 2, 3, 4, 5, 6]\n",
    "\n",
    "def list_value_check(arr1, arr2):\n",
    "    if len(arr1) != len(arr2): return False\n",
    "\n",
    "    for i in range(len(arr1)):\n",
    "        if arr1[i] != arr2[i]:\n",
    "            return False\n",
    "    return True"
   ]
  },
  {
   "cell_type": "code",
   "execution_count": 70,
   "metadata": {},
   "outputs": [
    {
     "name": "stdout",
     "output_type": "stream",
     "text": [
      "[0, 3, 1, 8, 7, 2, 5, 4, 9, 6]\n",
      "[0, 1, 3, 8, 7, 2, 5, 4, 9, 6]\n",
      "[0, 1, 3, 8, 7, 2, 5, 4, 9, 6]\n",
      "[0, 1, 3, 7, 8, 2, 5, 4, 9, 6]\n",
      "[0, 1, 2, 3, 7, 8, 5, 4, 9, 6]\n",
      "[0, 1, 2, 3, 5, 7, 8, 4, 9, 6]\n",
      "[0, 1, 2, 3, 4, 5, 7, 8, 9, 6]\n",
      "[0, 1, 2, 3, 4, 5, 7, 8, 9, 6]\n",
      "[0, 1, 2, 3, 4, 5, 6, 7, 8, 9]\n",
      "테스트 성공\n"
     ]
    }
   ],
   "source": [
    "if solution([3, 0, 1, 8, 7, 2, 5, 4, 9, 6]) == list(range(10)):\n",
    "    print('테스트 성공')\n",
    "else:\n",
    "    print('테스트 실패')"
   ]
  },
  {
   "cell_type": "code",
   "execution_count": 71,
   "metadata": {},
   "outputs": [
    {
     "name": "stdout",
     "output_type": "stream",
     "text": [
      "[0, 3, 1, 8, 7, 2, 5, 4, 9, 6]\n",
      "[0, 1, 3, 8, 7, 2, 5, 4, 9, 6]\n",
      "[0, 1, 3, 8, 7, 2, 5, 4, 9, 6]\n",
      "[0, 1, 3, 7, 8, 2, 5, 4, 9, 6]\n",
      "[0, 1, 2, 3, 7, 8, 5, 4, 9, 6]\n",
      "[0, 1, 2, 3, 5, 7, 8, 4, 9, 6]\n",
      "[0, 1, 2, 3, 4, 5, 7, 8, 9, 6]\n",
      "[0, 1, 2, 3, 4, 5, 7, 8, 9, 6]\n",
      "[0, 1, 2, 3, 4, 5, 6, 7, 8, 9]\n",
      "테스트 성공\n"
     ]
    }
   ],
   "source": [
    "if list_value_check(solution([3, 0, 1, 8, 7, 2, 5, 4, 9, 6]), list(range(10))):\n",
    "    print('테스트 성공')\n",
    "else:\n",
    "    print('테스트 실패')"
   ]
  },
  {
   "cell_type": "code",
   "execution_count": 72,
   "metadata": {},
   "outputs": [
    {
     "name": "stdout",
     "output_type": "stream",
     "text": [
      "[0, 3, 1, 8, 7, 2, 5, 4, 9, 6]\n",
      "[0, 1, 3, 8, 7, 2, 5, 4, 9, 6]\n",
      "[0, 1, 3, 8, 7, 2, 5, 4, 9, 6]\n",
      "[0, 1, 3, 7, 8, 2, 5, 4, 9, 6]\n",
      "[0, 1, 2, 3, 7, 8, 5, 4, 9, 6]\n",
      "[0, 1, 2, 3, 5, 7, 8, 4, 9, 6]\n",
      "[0, 1, 2, 3, 4, 5, 7, 8, 9, 6]\n",
      "[0, 1, 2, 3, 4, 5, 7, 8, 9, 6]\n",
      "[0, 1, 2, 3, 4, 5, 6, 7, 8, 9]\n"
     ]
    }
   ],
   "source": [
    "temp1 = solution([3, 0, 1, 8, 7, 2, 5, 4, 9, 6]) \n",
    "temp2 = list(range(10))"
   ]
  },
  {
   "cell_type": "code",
   "execution_count": 73,
   "metadata": {},
   "outputs": [
    {
     "name": "stdout",
     "output_type": "stream",
     "text": [
      "[0, 1, 2, 3, 4, 5, 6, 7, 8, 9] [0, 1, 2, 3, 4, 5, 6, 7, 8, 9]\n"
     ]
    },
    {
     "data": {
      "text/plain": [
       "(2462559442048, 2462559090816)"
      ]
     },
     "execution_count": 73,
     "metadata": {},
     "output_type": "execute_result"
    }
   ],
   "source": [
    "# 메모리 주소가 다름 (서로 다른 객체)\n",
    "# 하지만 파이썬에서는 배열의 요소를 비교해주기 때문에 == 비교시 True가 나옴\n",
    "print(temp1, temp2)\n",
    "id(temp1), id(temp2)"
   ]
  },
  {
   "attachments": {},
   "cell_type": "markdown",
   "metadata": {},
   "source": [
    "## 선택정렬\n",
    "- 가장 작은 값부터 찾아 앞에서부터 정렬하는 방법 1 \n",
    "- 가장 큰 값부터 찾아 뒤에서부터 정렬하는 방법 2"
   ]
  },
  {
   "cell_type": "code",
   "execution_count": 74,
   "metadata": {},
   "outputs": [],
   "source": [
    "def solution(array):\n",
    "    \n",
    "    for i in range(len(array)):\n",
    "        \n",
    "        j = i + 1 \n",
    "\n",
    "        if array[i] > array[j]:\n",
    "            \n",
    "            array[i], array[j] = array[j], array[i]\n",
    "\n",
    "        else:\n",
    "            pass     \n",
    "\n",
    "\n",
    "    \n",
    "    return array"
   ]
  },
  {
   "cell_type": "code",
   "execution_count": 89,
   "metadata": {},
   "outputs": [],
   "source": [
    "def solution(array):\n",
    "\n",
    "    i = 0 \n",
    "    for j in range(i+1, len(array)):\n",
    "        if array[i] > array[j]:\n",
    "            array[i], array[j] = array[j], array[i]\n",
    "        else: \n",
    "            pass "
   ]
  },
  {
   "cell_type": "code",
   "execution_count": 76,
   "metadata": {},
   "outputs": [],
   "source": [
    "def solution(arr):\n",
    "  \n",
    "    n = len(arr)\n",
    "    for i in range(n):\n",
    "        min_idx = i\n",
    "        for j in range(i+1, n):\n",
    "            if arr[j] < arr[min_idx]:\n",
    "                min_idx = j\n",
    "        arr[i], arr[min_idx] = arr[min_idx], arr[i]\n",
    "\n",
    "    return arr"
   ]
  },
  {
   "cell_type": "code",
   "execution_count": 77,
   "metadata": {},
   "outputs": [
    {
     "name": "stdout",
     "output_type": "stream",
     "text": [
      "테스트 성공\n"
     ]
    }
   ],
   "source": [
    "if solution([3, 0, 1, 8, 7, 2, 5, 4, 9, 6]) == list(range(10)):\n",
    "    print('테스트 성공')\n",
    "else:\n",
    "    print('테스트 실패')"
   ]
  },
  {
   "cell_type": "code",
   "execution_count": 78,
   "metadata": {},
   "outputs": [],
   "source": [
    "# 강사님 풀이\n",
    "# 작은 값 찾아서 앞에서부터 정렬, 방법1\n",
    "\n",
    "def solution(array):\n",
    "    answer = []\n",
    "    # 0번째 index에 들어갈 -> 큰 반복문\n",
    "    # 가장 작은 값을 찾아서 -> 작은 반복문\n",
    "    # 서로 교환해주는 것\n",
    "\n",
    "    # 0번째 인덱스부터 해당 위치에 들어갈 값을 찾음 \n",
    "    # (마지막 -1번째 때 정렬이 완료됨)\n",
    "    for i in range(len(array) - 1):\n",
    "        # i번째 인덱스부터 끝까지 배열을 확인해서 가장 작은 값을 찾는다. (그 위치도)\n",
    "        min_value = array[i]\n",
    "        min_index = i\n",
    "        for j, v in enumerate(array[i+1:], start=i+1):\n",
    "            if v < min_value:\n",
    "                min_value = v\n",
    "                min_index = j\n",
    "        \n",
    "        # 해당 위치를 가장 작은 값과 교환\n",
    "        array[i], array[min_index] = array[min_index], array[i]\n",
    "\n",
    "    return array\n",
    "\n"
   ]
  },
  {
   "cell_type": "code",
   "execution_count": 79,
   "metadata": {},
   "outputs": [],
   "source": [
    "# 작은 값 찾아서 앞에서부터 정렬, 방법2\n",
    "def solution(array):\n",
    "    answer = []\n",
    "    # 0번째 index에 들어갈 -> 큰 반복문\n",
    "    # 가장 작은 값을 찾아서 -> 작은 반복문\n",
    "    # 서로 교환해주는 것\n",
    "\n",
    "    # 0번째 인덱스부터 해당 위치에 들어갈 값을 찾음 \n",
    "    # (마지막 -1번째 때 정렬이 완료됨)\n",
    "    for i in range(len(array) - 1):\n",
    "        # i번째 인덱스부터 끝까지 배열을 확인해서 가장 작은 값을 찾는다. (그 위치도)\n",
    "        min_value = min(array[i:])\n",
    "        min_index = i + array[i:].index(min_value)\n",
    "        # min_index = array.index(min_value) 예외케이스 - 중복값이 있을 경우\n",
    "        \n",
    "        # 해당 위치를 가장 작은 값과 교환\n",
    "        array[i], array[min_index] = array[min_index], array[i]\n",
    "\n",
    "    return array"
   ]
  },
  {
   "cell_type": "code",
   "execution_count": 80,
   "metadata": {},
   "outputs": [],
   "source": [
    "# 강사님 풀이\n",
    "# 큰 값부터 맨 끝에 정렬\n",
    "\n",
    "def solution(array):\n",
    "\n",
    "    # 맨 끝에서부터 1번 index까지\n",
    "    for i in range(len(array)-1, 0, -1):\n",
    "        max_value = array[i]\n",
    "        max_index = i\n",
    "\n",
    "        # 정렬된 곳 앞에까지만 확인 0 ~ i-1\n",
    "        for j, v in enumerate(array[:i], start=0):\n",
    "            if v > max_value:\n",
    "                max_value = v\n",
    "                max_index = j\n",
    "\n",
    "        array[i], array[max_index] = array[max_index], array[i]\n",
    "\n",
    "    return array"
   ]
  },
  {
   "cell_type": "code",
   "execution_count": 81,
   "metadata": {},
   "outputs": [],
   "source": [
    "def solution(array):\n",
    "    for i in range(len(array)-1, 0, -1):\n",
    "        max_value = max(array[:i+1])\n",
    "        max_index = array[:i+1].index(max_value)\n",
    "        array[i], array[max_index] = array[max_index], array[i]\n",
    "\n",
    "    return array"
   ]
  },
  {
   "cell_type": "code",
   "execution_count": 83,
   "metadata": {},
   "outputs": [
    {
     "data": {
      "text/plain": [
       "[0, 1, 2, 3, 3, 4, 5, 6, 7, 8, 9]"
      ]
     },
     "execution_count": 83,
     "metadata": {},
     "output_type": "execute_result"
    }
   ],
   "source": [
    "solution([3, 0, 1, 8, 7, 2, 5, 4, 9, 6, 3])"
   ]
  },
  {
   "cell_type": "code",
   "execution_count": 84,
   "metadata": {},
   "outputs": [
    {
     "name": "stdout",
     "output_type": "stream",
     "text": [
      "테스트 성공\n"
     ]
    }
   ],
   "source": [
    "if solution([3, 0, 1, 8, 7, 2, 5, 4, 9, 6]) == list(range(10)):\n",
    "    print('테스트 성공')\n",
    "else:\n",
    "    print('테스트 실패')"
   ]
  },
  {
   "cell_type": "markdown",
   "metadata": {},
   "source": [
    "## 버블정렬"
   ]
  },
  {
   "cell_type": "code",
   "execution_count": 85,
   "metadata": {},
   "outputs": [],
   "source": [
    "def solution(array):\n",
    "    # 배열 길이의-1 만큼 도는 반복문 -> i\n",
    "\n",
    "    # [ 7 4 5 1 3 ]\n",
    "    # 배열 길이가 5일때 i가 0이라면, j는 0부터 3까지만 돈다.\n",
    "    # i = 0 \n",
    "    # j 는 range(4)\n",
    "\n",
    "    # [ 4 5 1 3 ] [ 7 ]\n",
    "    # i = 1\n",
    "    # j는 range(3)\n",
    "\n",
    "    # j는 0부터 range(len(array) - i - 1)\n",
    "\n",
    "    # 대소비교, j, j + 1 교환\n",
    "\n",
    "    for i in range(len(array)-1):\n",
    "        for j in range(len(array)-1-i):\n",
    "            # 다음 값이 더 크면,\n",
    "            if array[j] > array[j+1]:\n",
    "                # 교환\n",
    "                array[j], array[j+1] = array[j+1], array[j]\n",
    "    \n",
    "    return array"
   ]
  },
  {
   "cell_type": "code",
   "execution_count": 87,
   "metadata": {},
   "outputs": [
    {
     "data": {
      "text/plain": [
       "[0, 1, 2, 3, 4, 5, 6, 7, 8, 9]"
      ]
     },
     "execution_count": 87,
     "metadata": {},
     "output_type": "execute_result"
    }
   ],
   "source": [
    "solution([3, 0, 1, 8, 7, 2, 5, 4, 9, 6])"
   ]
  },
  {
   "cell_type": "code",
   "execution_count": 88,
   "metadata": {},
   "outputs": [
    {
     "name": "stdout",
     "output_type": "stream",
     "text": [
      "테스트 성공\n"
     ]
    }
   ],
   "source": [
    "if solution([3, 0, 1, 8, 7, 2, 5, 4, 9, 6]) == list(range(10)):\n",
    "    print('테스트 성공')\n",
    "else:\n",
    "    print('테스트 실패')"
   ]
  },
  {
   "cell_type": "code",
   "execution_count": null,
   "metadata": {},
   "outputs": [],
   "source": []
  }
 ],
 "metadata": {
  "kernelspec": {
   "display_name": "Python 3",
   "language": "python",
   "name": "python3"
  },
  "language_info": {
   "codemirror_mode": {
    "name": "ipython",
    "version": 3
   },
   "file_extension": ".py",
   "mimetype": "text/x-python",
   "name": "python",
   "nbconvert_exporter": "python",
   "pygments_lexer": "ipython3",
   "version": "3.11.4"
  },
  "orig_nbformat": 4
 },
 "nbformat": 4,
 "nbformat_minor": 2
}
