{
 "cells": [
  {
   "attachments": {},
   "cell_type": "markdown",
   "metadata": {},
   "source": [
    "# 프로그래머스 코딩테스트 입문"
   ]
  },
  {
   "attachments": {},
   "cell_type": "markdown",
   "metadata": {},
   "source": [
    "### day01 +day02"
   ]
  },
  {
   "cell_type": "code",
   "execution_count": 1,
   "metadata": {},
   "outputs": [],
   "source": [
    "def solution(num1, num2):\n",
    "    if (0 <= num1 <= 100 and 0 <= num2 <= 100):\n",
    "        answer = num1 * num2\n",
    "    \n",
    "    return answer"
   ]
  },
  {
   "cell_type": "code",
   "execution_count": 2,
   "metadata": {},
   "outputs": [
    {
     "data": {
      "text/plain": [
       "500"
      ]
     },
     "execution_count": 2,
     "metadata": {},
     "output_type": "execute_result"
    }
   ],
   "source": [
    "solution(50, 10)"
   ]
  },
  {
   "cell_type": "code",
   "execution_count": 3,
   "metadata": {},
   "outputs": [],
   "source": [
    "def solution(num1, num2):\n",
    "    if (0<= num1 <= 100 and 0 <= num2 <= 100):\n",
    "        answer = num1 // num2\n",
    "        \n",
    "    return answer"
   ]
  },
  {
   "cell_type": "code",
   "execution_count": 4,
   "metadata": {},
   "outputs": [
    {
     "data": {
      "text/plain": [
       "4"
      ]
     },
     "execution_count": 4,
     "metadata": {},
     "output_type": "execute_result"
    }
   ],
   "source": [
    "solution(14, 3)"
   ]
  },
  {
   "cell_type": "code",
   "execution_count": 5,
   "metadata": {},
   "outputs": [],
   "source": [
    "def solution(num1, num2):\n",
    "    if (0 <= num1 <= 100 and 0 <= num2 <= 100):\n",
    "        answer = f'{(num1 / num2) * 1000:.0f}'\n",
    "    return answer\n"
   ]
  },
  {
   "cell_type": "code",
   "execution_count": 6,
   "metadata": {},
   "outputs": [],
   "source": [
    "def solution(num1, num2):\n",
    "    if (0 <= num1 <= 100 and 0 <= num2 <= 100):\n",
    "        answer = int((num1 / num2) * 1000)\n",
    "    \n",
    "    return answer"
   ]
  },
  {
   "cell_type": "code",
   "execution_count": 7,
   "metadata": {},
   "outputs": [],
   "source": [
    "def solution(num1, num2):\n",
    "    if (0 <= num1 <= 100 and 0 <= num2 <= 100):\n",
    "        answer = round((num1 / num2) * 1000, 0)\n",
    "    \n",
    "    return answer"
   ]
  },
  {
   "cell_type": "code",
   "execution_count": 8,
   "metadata": {},
   "outputs": [
    {
     "data": {
      "text/plain": [
       "2333.0"
      ]
     },
     "execution_count": 8,
     "metadata": {},
     "output_type": "execute_result"
    }
   ],
   "source": [
    "solution(7, 3)"
   ]
  },
  {
   "cell_type": "code",
   "execution_count": 9,
   "metadata": {},
   "outputs": [],
   "source": [
    "def solution(num1, num2):\n",
    "    if (0 <= num1 <= 10000 and 0 <= num2 <= 10000):\n",
    "        if num1 == num2:\n",
    "            answer = 1\n",
    "        else:\n",
    "            answer = -1 \n",
    "\n",
    "    return answer"
   ]
  },
  {
   "cell_type": "code",
   "execution_count": 10,
   "metadata": {},
   "outputs": [
    {
     "data": {
      "text/plain": [
       "1"
      ]
     },
     "execution_count": 10,
     "metadata": {},
     "output_type": "execute_result"
    }
   ],
   "source": [
    "solution(2,2)"
   ]
  },
  {
   "cell_type": "code",
   "execution_count": 1,
   "metadata": {},
   "outputs": [],
   "source": [
    "# 분수의 덧셈\n",
    "\n",
    "from fractions import Fraction \n",
    "\n",
    "def solution(numer1, denom1, numer2, denom2):\n",
    "    add = Fraction(numer1, denom1) + Fraction(numer2, denom2)\n",
    "    answer = [add.numerator, add.denominator]\n",
    "    return answer"
   ]
  },
  {
   "cell_type": "code",
   "execution_count": 2,
   "metadata": {},
   "outputs": [
    {
     "data": {
      "text/plain": [
       "[29, 6]"
      ]
     },
     "execution_count": 2,
     "metadata": {},
     "output_type": "execute_result"
    }
   ],
   "source": [
    "solution(9,2,1,3)"
   ]
  },
  {
   "cell_type": "code",
   "execution_count": 3,
   "metadata": {},
   "outputs": [],
   "source": [
    "# 배열 두 배 만들기\n",
    "\n",
    "def solution(numbers):\n",
    "    answer = []\n",
    "    for num in numbers:  # 배열의 요소들을 하나씩 순회환다.\n",
    "        answer.append(num*2)  # 2배하고 answer 에 담아줌\n",
    "        \n",
    "    return answer"
   ]
  },
  {
   "cell_type": "code",
   "execution_count": 4,
   "metadata": {},
   "outputs": [
    {
     "data": {
      "text/plain": [
       "[2, 4, 6]"
      ]
     },
     "execution_count": 4,
     "metadata": {},
     "output_type": "execute_result"
    }
   ],
   "source": [
    "solution([1,2,3])"
   ]
  },
  {
   "attachments": {},
   "cell_type": "markdown",
   "metadata": {},
   "source": [
    "# 2023-07-04"
   ]
  },
  {
   "cell_type": "code",
   "execution_count": 21,
   "metadata": {},
   "outputs": [],
   "source": [
    "# 배열 두 배 만들기\n",
    "# 강사님 풀이 1\n",
    "\n",
    "def solution(numbers):\n",
    "    # map(함수, 배열) -> 배열의 요소들을 하나씩 함수에 넣어서 결과를 반환.\n",
    "    def func(x):\n",
    "        return x*2    \n",
    "    return list(map(func, numbers))  # json 으로 표현 할 수 없어서 list() 형변환 해줘야 한다."
   ]
  },
  {
   "cell_type": "code",
   "execution_count": 23,
   "metadata": {},
   "outputs": [],
   "source": [
    "# 강사님 풀이 2\n",
    "\n",
    "def solution(numbers):\n",
    "    # map(함수, 배열) -> 배열의 요소들을 하나씩 함수에 넣어서 결과를 반환.\n",
    "    def func(x):\n",
    "        return x*2  \n",
    "    # lambda x : x * 2  -> 한 줄 함수 표현식  \n",
    "    return list(map(lambda x : x*2, numbers))  # json 으로 표현 할 수 없어서 list() 형 변환 해줘야 한다."
   ]
  },
  {
   "cell_type": "code",
   "execution_count": 24,
   "metadata": {},
   "outputs": [],
   "source": [
    "# 강사님 풀이 3\n",
    "\n",
    "def solution(numbers):\n",
    "\n",
    "# list comprehension \n",
    "    return [number * 2 for number in numbers]"
   ]
  },
  {
   "cell_type": "code",
   "execution_count": 25,
   "metadata": {},
   "outputs": [],
   "source": [
    "# 강사님 풀이 4\n",
    "\n",
    "def solution(numbers):\n",
    "\n",
    "    # cf. dict comprehension\n",
    "    return {number: number *2 for number in numbers}"
   ]
  },
  {
   "attachments": {},
   "cell_type": "markdown",
   "metadata": {},
   "source": [
    "---"
   ]
  },
  {
   "cell_type": "code",
   "execution_count": 31,
   "metadata": {},
   "outputs": [],
   "source": [
    "# 분수의 덧셈\n",
    "# 강사님 풀이 1\n",
    "\n",
    "import math\n",
    "\n",
    "def solution(numer1, denom1, numer2, denom2):\n",
    "    answer = []\n",
    "    # 수도코드\n",
    "    # 분수의 덧셈\n",
    "    # 1. 분모를 맞춰준다. (분자 덧셈 할 수 있게)\n",
    "    # 2. 분모 맞춰줄 때 사용한 값을 각 분자에 곱해준다.\n",
    "    # 3. 분자를 더한다.\n",
    "    head = numer1 * denom2 + numer2 * denom1 # 분자\n",
    "    body = denom1 * denom2 # 분모 \n",
    "    \n",
    "    # 기약분수\n",
    "    # 1. 최대공약수로 나눠준다.\n",
    "    temp = math.gcd(head, body)\n",
    "    answer = [head//temp, body//temp]\n",
    "\n",
    "    return answer \n",
    "\n"
   ]
  },
  {
   "cell_type": "code",
   "execution_count": 27,
   "metadata": {},
   "outputs": [],
   "source": [
    "# 분수의 덧셈\n",
    "# 강사님 풀이 2\n",
    "\n",
    "def solution(numer1, denom1, numer2, denom2):\n",
    "    answer = []\n",
    "    # 수도코드\n",
    "    # 분수의 덧셈\n",
    "    # 1. 분모를 맞춰준다. (분자 덧셈 할 수 있게)\n",
    "    # 2. 분모 맞춰줄 때 사용한 값을 각 분자에 곱해준다.\n",
    "    # 3. 분자를 더한다.\n",
    "    head = numer1 * denom2 + numer2 * denom1 # 분자\n",
    "    body = denom1 * denom2 # 분모 \n",
    "    \n",
    "    # 기약분수\n",
    "    # 1. 반복문 통해서 최대공약수 확인\n",
    "    # 2. 두 값을 나눌 수 있는 가장 큰 값\n",
    "    # 3. 둘  중에 작은 값까지만 확인\n",
    "    for i in range(1, min(head, body) + 1):\n",
    "        # 여기서 두 값이 나눠지는지 체크\n",
    "        if head % i == 0 and body % i == 0:\n",
    "            # 둘 다 나눠 떨어지면, 최대공약수로 바꿔줌.\n",
    "            temp = i \n",
    "    answer = [head//temp, body//temp]\n",
    "\n",
    "    return answer "
   ]
  },
  {
   "attachments": {},
   "cell_type": "markdown",
   "metadata": {},
   "source": [
    "## 코딩테스트 입문 day 3 + day 4"
   ]
  },
  {
   "cell_type": "code",
   "execution_count": 1,
   "metadata": {},
   "outputs": [],
   "source": [
    "# 나머지 구하기\n",
    "\n",
    "def solution(num1, num2):\n",
    "    answer = num1 % num2 \n",
    "    return answer"
   ]
  },
  {
   "cell_type": "code",
   "execution_count": 24,
   "metadata": {},
   "outputs": [],
   "source": [
    "# 중앙값 구하기\n",
    "\n",
    "def solution(array):\n",
    "    array.sort()\n",
    "    center_idx = (len(array) // 2) \n",
    "    \n",
    "    return array[center_idx]\n"
   ]
  },
  {
   "cell_type": "code",
   "execution_count": 1,
   "metadata": {},
   "outputs": [],
   "source": [
    "# 최빈값 구하기\n",
    "# 내 풀이\n",
    "\n",
    "def solution(array):\n",
    "    while len(array) != 0:\n",
    "        for i, a in enumerate(set(array)):\n",
    "            array.remove(a)\n",
    "        if i == 0:\n",
    "            return a \n",
    "\n",
    "    return -1"
   ]
  },
  {
   "cell_type": "code",
   "execution_count": 2,
   "metadata": {},
   "outputs": [],
   "source": [
    "# 최빈값 구하기\n",
    "# 강사님 풀이\n",
    "\n",
    "def solution(array):\n",
    "    answer = 0\n",
    "    counter = {}\n",
    "    # 1. 빈도수 확인 (배열을 돌면서)\n",
    "    for number in array:\n",
    "        counter[number] = counter.get(number, 0) + 1 # 1개 추가\n",
    "    # 결과\n",
    "    # counter = {\n",
    "    #     1: 1,\n",
    "    #     2: 1, \n",
    "    #     3: 3,\n",
    "    #     4: 1,\n",
    "    # }\n",
    "    print(counter)\n",
    "    \n",
    "    # 2. 최빈값 개수 확인, 결과값 반환\n",
    "    \n",
    "    max_median = -1\n",
    "    max_values = [] # 빈도수가 같으면, 여기에 넣어주기 위해서\n",
    "    for key in counter:\n",
    "        key, counter[key] # 숫자와 빈도수\n",
    "        if max_median < counter[key]: # 현재 빈도수가 더 크면,\n",
    "            max_values = [key] # max_values를 key로 초기화\n",
    "            max_median = counter[key] # 빈도수로 최신화\n",
    "        elif max_median == counter[key]: # 빈도수가 같으면?\n",
    "            max_values.append(key) # 값 목록에 추가\n",
    "    \n",
    "    if len(max_values) > 1:\n",
    "        answer = -1\n",
    "    else:\n",
    "        answer = max_values[0]\n",
    "    \n",
    "    # 조건표현식\n",
    "    answer = -1 if len(max_values) > 1 else max_values[0]\n",
    "    \n",
    "    return answer"
   ]
  },
  {
   "cell_type": "code",
   "execution_count": 32,
   "metadata": {},
   "outputs": [],
   "source": [
    "# 짝수는 싫어요\n",
    "\n",
    "def solution(n):\n",
    "    answer = []\n",
    "\n",
    "    for i in range(n+1):\n",
    "        if i % 2 == 1:\n",
    "            answer.append(i)\n",
    "            \n",
    "\n",
    "    return answer"
   ]
  },
  {
   "cell_type": "code",
   "execution_count": 33,
   "metadata": {},
   "outputs": [],
   "source": [
    "# 피자 나눠 먹기(1)\n",
    "\n",
    "def solution(n):\n",
    "    answer = n % 7\n",
    "    if answer == 0:\n",
    "        return (n // 7)\n",
    "    else:\n",
    "        return (n // 7 + 1)\n",
    "        \n",
    "    "
   ]
  },
  {
   "cell_type": "code",
   "execution_count": 3,
   "metadata": {},
   "outputs": [],
   "source": [
    "# 피자 나눠 먹기(1)\n",
    "# 강사님 풀이\n",
    "\n",
    "import math\n",
    "def solution(n):\n",
    "    answer = 0\n",
    "    \n",
    "    # 피자를 7조각으로 나눠주고,\n",
    "    # n명이 한 조각 이상씩 먹을 수 있도록 하는 피자의 수\n",
    "    \n",
    "    # 15명\n",
    "    # 7조각 피자\n",
    "    # 15/7 => 2.142857 판 -> 올림\n",
    "    # 반올림을 하게되면, 2판 14명은 1조각씩 먹을 수 있고, 1명은 0조각\n",
    "    answer = math.ceil(n/7)\n",
    "    \n",
    "    # 조건식\n",
    "    if n % 7 != 0: # 사람 수를 7조각으로 나눴을 때, 나머지가 있으면,\n",
    "        answer = n // 7 + 1 # 한 판을 더 시킨다.\n",
    "    else: # 7조각으로 나누어 떨어지면,\n",
    "        answer = n // 7 # 피자 수 그대로 반환\n",
    "    \n",
    "    # 조건표현식\n",
    "    answer = (n // 7 + 1) if n % 7 != 0 else (n // 7 + 0)\n",
    "    answer = n // 7 + (1 if n % 7 != 0 else 0)\n",
    "    \n",
    "    return answer\n"
   ]
  },
  {
   "cell_type": "code",
   "execution_count": 38,
   "metadata": {},
   "outputs": [],
   "source": [
    "# 피자 나눠 먹기(2)\n",
    "\n",
    "import math \n",
    "\n",
    "def solution(n):\n",
    "    gcd_val = math.gcd(n, 6)\n",
    "    lcm_val = (n * 6) / gcd_val \n",
    "    answer = lcm_val / 6\n",
    "\n",
    "    return answer"
   ]
  },
  {
   "cell_type": "code",
   "execution_count": 4,
   "metadata": {},
   "outputs": [],
   "source": [
    "# 피자 나눠 먹기(2)\n",
    "# 강사님 풀이\n",
    "\n",
    "def solution(n):\n",
    "    answer = 0\n",
    "    \n",
    "    # 10\n",
    "    # 한 판 시켰을 때 (6 조각)\n",
    "    # 6 -> 1\n",
    "    # 4 -> 0\n",
    "    \n",
    "    # 두 판 시켰을 때 (12 조각)\n",
    "    # 2 -> 2\n",
    "    # 8 -> 1\n",
    "    \n",
    "    # 세 판 시켰을 때 (18 조각)\n",
    "    # 8 -> 2\n",
    "    # 2 -> 1\n",
    "    \n",
    "    # 네 판 시켰을 때 (24 조각)\n",
    "    # 4 -> 3\n",
    "    # 6 -> 2\n",
    "    \n",
    "    # 다섯 판 째 (30 조각)\n",
    "    # 10 -> 3\n",
    "    \n",
    "    # 6 * 10 = 6조각씩\n",
    "    # 피자를 사람 수만큼 시키면, 모두가 6조각씩 먹을 수 있음\n",
    "    # 이거를 최소로하겠다\n",
    "    # 6, n의 최소공배수를 구하겠다.\n",
    "    \n",
    "    # 최소공배수 찾는 법\n",
    "    # 1 ~ 60\n",
    "    # 30 -> 10, 6의 최소공배수 \n",
    "    # 30/10 => 3, 0 30/6 => 5, 0\n",
    "    for number in range(1, 6 * n + 1):\n",
    "        if number % 6 == number % n == 0:\n",
    "            answer = number // 6\n",
    "            break\n",
    "    \n",
    "    return answer"
   ]
  },
  {
   "cell_type": "code",
   "execution_count": null,
   "metadata": {},
   "outputs": [],
   "source": [
    "# 피자 나눠 먹기(3)\n",
    "\n",
    "def solution(slice, n):\n",
    "    i = 1\n",
    "    while 1:\n",
    "        if slice * i < n:\n",
    "            i += 1\n",
    "        elif slice * i >= n:\n",
    "            return i \n",
    "    \n"
   ]
  },
  {
   "cell_type": "code",
   "execution_count": 5,
   "metadata": {},
   "outputs": [],
   "source": [
    "# 피자 나눠 먹기(3)\n",
    "# 강사님 풀이\n",
    "\n",
    "def solution(slice, n):\n",
    "    answer = 0\n",
    "    # slice = 7, 피자 1\n",
    "    \n",
    "    answer = n//slice+1 if n%slice != 0 else n//slice\n",
    "    return answer"
   ]
  },
  {
   "cell_type": "code",
   "execution_count": 40,
   "metadata": {},
   "outputs": [],
   "source": [
    "# 배열의 평균값\n",
    "\n",
    "def solution(numbers):\n",
    "    num_sum = sum(numbers)\n",
    "    num_mean = num_sum / len(numbers)    \n",
    "    return num_mean"
   ]
  },
  {
   "attachments": {},
   "cell_type": "markdown",
   "metadata": {},
   "source": [
    "## 코딩테스트 입문 day 5 + day 6"
   ]
  },
  {
   "cell_type": "code",
   "execution_count": 12,
   "metadata": {},
   "outputs": [],
   "source": [
    "# 옷가게 할인 받기\n",
    "\n",
    "def solution(price):\n",
    "    if price >= 500000:\n",
    "        return int(price * 0.8)\n",
    "    \n",
    "    elif price >= 300000:\n",
    "        return int(price * 0.9)\n",
    "    \n",
    "    elif price >= 100000:\n",
    "        return int(price * 0.95)\n",
    "    \n",
    "    else:\n",
    "        return price"
   ]
  },
  {
   "cell_type": "code",
   "execution_count": 24,
   "metadata": {},
   "outputs": [],
   "source": [
    "# 옷가게 할인 받기, 강사님 풀이\n",
    "# 조건 표현식 : <참일 때 값> if 조건식 else <거짓일 때 값>\n",
    "\n",
    "def solution(price):                # \\ 하고 줄을 내리면 보기 더 좋음.\n",
    "    answer = price * 0.8 if price >= 500000 else \\\n",
    "                price * 0.9 if price >= 300000 else \\\n",
    "                price * 0.95 if price >= 100000 else price\n",
    "    \n",
    "    return int(answer)\n",
    "\n",
    "    # elif를 강제로 넣는다면?\n",
    "    # <elif일 때 값> ?\n",
    "    # <참일 때 값> if 조건식 <elif일 때 값> elif 조건식 else <거짓일 때 값>\n",
    "    # price * 0.8 if price >= 500000 elif price >= 300000 price * 0.9 else price * 0.95\n",
    "    #                    --->  elif 앞이나 뒤에 식들이 서로 구분이 안 가서 elif 는 안 됨.  "
   ]
  },
  {
   "cell_type": "code",
   "execution_count": 13,
   "metadata": {},
   "outputs": [],
   "source": [
    "# 아이스 아메리카노\n",
    "\n",
    "def solution(money):\n",
    "    \n",
    "    coff = money//5500\n",
    "    chan_mon = money%5500\n",
    "    answer = [coff, chan_mon]\n",
    "\n",
    "    return answer"
   ]
  },
  {
   "cell_type": "code",
   "execution_count": 14,
   "metadata": {},
   "outputs": [],
   "source": [
    "# 나이 출력\n",
    "\n",
    "def solution(age):\n",
    "    \n",
    "    answer = 2022 - age + 1\n",
    "\n",
    "    return answer"
   ]
  },
  {
   "cell_type": "code",
   "execution_count": 17,
   "metadata": {},
   "outputs": [],
   "source": [
    "# 배열 뒤집기\n",
    "\n",
    "def solution(num_list):\n",
    "    answer = list(reversed(num_list))\n",
    "    \n",
    "    return answer"
   ]
  },
  {
   "cell_type": "code",
   "execution_count": 20,
   "metadata": {},
   "outputs": [],
   "source": [
    "# 문자열 뒤집기\n",
    "\n",
    "def solution(my_string):\n",
    "    answer = my_string[::-1]\n",
    "    \n",
    "    return answer"
   ]
  },
  {
   "cell_type": "code",
   "execution_count": 15,
   "metadata": {},
   "outputs": [
    {
     "name": "stdout",
     "output_type": "stream",
     "text": [
      "*\n",
      "**\n",
      "***\n"
     ]
    }
   ],
   "source": [
    "# 직각삼각형 출력하기\n",
    "\n",
    "n = int(input(\"\"))\n",
    "\n",
    "for i in range(1, n + 1):\n",
    "    \n",
    "    print(\"*\" * i )\n",
    "\n",
    "# list comprehension \n",
    "# [print(\"*\" * (i)) for i in range(1, int(input())+1)]\n",
    "     "
   ]
  },
  {
   "cell_type": "code",
   "execution_count": 17,
   "metadata": {},
   "outputs": [],
   "source": [
    "# 짝수 홀수 개수, 내 풀이\n",
    "\n",
    "def solution(num_list):\n",
    "    \n",
    "    even = 0\n",
    "    odd = 0\n",
    "\n",
    "    for i in num_list:\n",
    "        if i % 2 == 0:\n",
    "            even += 1\n",
    "        \n",
    "        elif i % 2 == 1:\n",
    "            odd  += 1\n",
    "            \n",
    "    answer = [even, odd]\n",
    "\n",
    "    return answer"
   ]
  },
  {
   "cell_type": "code",
   "execution_count": 27,
   "metadata": {},
   "outputs": [],
   "source": [
    "# 짝수 홀수 개수, 강사님 풀이\n",
    "# list comprehension\n",
    "\n",
    "def solution(num_list):\n",
    "    \n",
    "    # sum([1 for number in num_list if number%2 == 0]) \n",
    "    # --> 밑에 식 len 대신 이렇게 sum 을 이용해서 풀 수도 있음. \n",
    "    \n",
    "    return [len([number for number in num_list if number%2 == 0]), \n",
    "            len([number for number in num_list if number%2 == 1])]"
   ]
  },
  {
   "cell_type": "code",
   "execution_count": 62,
   "metadata": {},
   "outputs": [],
   "source": [
    "# 문자 반복 출력하기\n",
    "\n",
    "def solution(my_string, n):\n",
    "    \n",
    "    str = list(my_string)\n",
    "    a = []\n",
    "\n",
    "    for i in str:\n",
    "        b = i * n\n",
    "        a.append(b)    \n",
    "\n",
    "    answer = ''.join(a)\n",
    "    return answer"
   ]
  },
  {
   "attachments": {},
   "cell_type": "markdown",
   "metadata": {},
   "source": [
    "## 코딩테스트 입문 day 7 +day 8"
   ]
  },
  {
   "cell_type": "code",
   "execution_count": 12,
   "metadata": {},
   "outputs": [],
   "source": [
    "# 특정 문자 제거하기, 방법 1\n",
    "\n",
    "def solution(my_string, letter):\n",
    "    \n",
    "    my_string = list(my_string)\n",
    "    \n",
    "    while letter in my_string:\n",
    "        my_string.remove(letter)\n",
    "    \n",
    "    return \"\".join(my_string)"
   ]
  },
  {
   "cell_type": "code",
   "execution_count": 13,
   "metadata": {},
   "outputs": [],
   "source": [
    "# 특정 문자 제거하기, 방법 2\n",
    "\n",
    "def solution(my_string, letter):\n",
    "    \n",
    "    a = list(my_string)\n",
    "    b = list(letter)\n",
    "\n",
    "    new_str = [i for i in a if i not in b]\n",
    "\n",
    "    answer = \"\".join(new_str)\n",
    "\n",
    "    return answer"
   ]
  },
  {
   "cell_type": "code",
   "execution_count": 14,
   "metadata": {},
   "outputs": [],
   "source": [
    "# 특정 문자 제거하기, 방법 3\n",
    "\n",
    "def solution(my_string, letter):\n",
    "    answer = my_string.replace(letter, \"\")\n",
    "\n",
    "    return answer"
   ]
  },
  {
   "cell_type": "code",
   "execution_count": 28,
   "metadata": {},
   "outputs": [],
   "source": [
    "# 양꼬치\n",
    "\n",
    "def solution(n, k):\n",
    "    \n",
    "    lamb = n * 12000\n",
    "    drink = k * 2000\n",
    "    sv_drink = (n // 10) * 2000\n",
    "    \n",
    "    answer = lamb + drink - sv_drink\n",
    "    return answer"
   ]
  },
  {
   "cell_type": "code",
   "execution_count": 30,
   "metadata": {},
   "outputs": [],
   "source": [
    "# 짝수의 합\n",
    "\n",
    "def solution(n):\n",
    "    \n",
    "    answer = []\n",
    "\n",
    "    for i in range(1, n+1):\n",
    "        if i % 2 == 0:\n",
    "            answer.append(i)        \n",
    "\n",
    "    return sum(answer)"
   ]
  },
  {
   "cell_type": "code",
   "execution_count": 1,
   "metadata": {},
   "outputs": [],
   "source": [
    "# 짝수의 합 \n",
    "# 강사님 풀이\n",
    "\n",
    "def solution(n):\n",
    "    answer = 0\n",
    "\n",
    "    for number in range(0, n+1, 2):\n",
    "        answer += number\n",
    "\n",
    "    return answer  "
   ]
  },
  {
   "cell_type": "code",
   "execution_count": 2,
   "metadata": {},
   "outputs": [],
   "source": [
    "# 짝수의 합 \n",
    "# 강사님 풀이\n",
    "\n",
    "def solution(n):\n",
    "\n",
    "    # 1 ~ 100 -> n * (n+1) / 2\n",
    "    # 2 ~ 200 (짝수만) -> \n",
    "    # 2, 4, 6, 8, 10 ... 200\n",
    "    # 1, 2, 3, 4, 5, ... 100 * 2\n",
    "    # n = 100\n",
    "    # (n * (n+1) / 2) * 2\n",
    "    # real_n = 200\n",
    "    # (real_n/2 * (real_n/2+1) / 2) * 2\n",
    "    \n",
    "    # 1 ~ 100 (/2) * 2\n",
    "    # n/2 * (n/2+1) / 2 * 2\n",
    "    # n/2 * (n/2+1)\n",
    "    # 시간복잡도 : O(1)\n",
    "\n",
    "     return n//2*(n//2+1)"
   ]
  },
  {
   "cell_type": "code",
   "execution_count": 33,
   "metadata": {},
   "outputs": [],
   "source": [
    "# 진료 순서 정하기\n",
    "\n",
    "def solution(emergency):\n",
    "    answer = []\n",
    "    temp = sorted(emergency, reverse = True)  \n",
    "\n",
    "    for i in emergency:\n",
    "        \n",
    "        answer.append(temp.index(i) + 1)\n",
    "\n",
    "    # answer = [sorted(emergency, reverse = True).index(e)+1\n",
    "    #   for e in emergency]\n",
    "\n",
    "    return answer"
   ]
  },
  {
   "cell_type": "code",
   "execution_count": 34,
   "metadata": {},
   "outputs": [],
   "source": [
    "# 순서쌍의 개수\n",
    "\n",
    "def solution(n):\n",
    "    answer = []\n",
    "\n",
    "    for  i in range(1, n+1):\n",
    "        if n % i == 0:\n",
    "            answer.append([i, n // i])\n",
    "        \n",
    "    return len(answer)"
   ]
  },
  {
   "cell_type": "code",
   "execution_count": 11,
   "metadata": {},
   "outputs": [],
   "source": [
    "# 순서쌍의 개수\n",
    "# 강사님 풀이\n",
    "\n",
    "def solution(n):\n",
    "    answer = 0\n",
    "    # O(n^2)\n",
    "    # O(n)\n",
    "    for num1 in range(1, n+1):\n",
    "        if n % num1 != 0:\n",
    "            continue\n",
    "        \n",
    "        num2 = n//num1\n",
    "        (num1, num2)\n",
    "        answer += 1\n",
    "        \n",
    "        # for num2 in range(n//num1, 0, -1):\n",
    "        #     if num1 * num2 == n:\n",
    "        #         answer += 1\n",
    "        #         break\n",
    "\n",
    "    return answer"
   ]
  },
  {
   "cell_type": "code",
   "execution_count": 9,
   "metadata": {},
   "outputs": [],
   "source": [
    "# 각도기\n",
    "\n",
    "def solution(angle):\n",
    "\n",
    "    if 0 < angle < 90:\n",
    "        return 1\n",
    "    elif angle == 90:\n",
    "        return 2\n",
    "    elif angle < 180:\n",
    "        return 3\n",
    "    else:\n",
    "        return 4"
   ]
  },
  {
   "cell_type": "code",
   "execution_count": 10,
   "metadata": {},
   "outputs": [],
   "source": [
    "# 배열 자르기 \n",
    "\n",
    "def solution(numbers, num1, num2):\n",
    "    answer =  numbers[num1:num2 + 1]\n",
    "\n",
    "    return answer"
   ]
  },
  {
   "cell_type": "code",
   "execution_count": null,
   "metadata": {},
   "outputs": [],
   "source": [
    "# 외계행성의 나이\n",
    "# 실패 풀이 \n",
    "\n",
    "def solution(age):\n",
    "\n",
    "    answer = []\n",
    "\n",
    "    p_age = [age]\n",
    "\n",
    "    pro_ages = {0:'a', 1:'b', 2:'c', 3:'d', 4:'e', 5:'f', 6:'g', 7:'h', 8:'i', 9:'j'}\n",
    "\n",
    "    list_pro = list(pro_ages.keys())\n",
    "\n",
    "    for a in p_age:\n",
    "        for b in list_pro:\n",
    "            if a == b\n",
    "    return answer"
   ]
  },
  {
   "cell_type": "code",
   "execution_count": 26,
   "metadata": {},
   "outputs": [],
   "source": [
    "# 외계행성의 나이\n",
    "\n",
    "def solution(age):\n",
    "    answer = ''\n",
    "\n",
    "    word = [\"a\", \"b\", \"c\", \"d\", \"e\", \"f\", \"g\", \"h\", \"i\", \"j\"]\n",
    "\n",
    "    for i in str(age):\n",
    "        answer += word[int(i)]\n",
    "\n",
    "    return answer"
   ]
  },
  {
   "cell_type": "code",
   "execution_count": null,
   "metadata": {},
   "outputs": [],
   "source": []
  }
 ],
 "metadata": {
  "kernelspec": {
   "display_name": "Python 3",
   "language": "python",
   "name": "python3"
  },
  "language_info": {
   "codemirror_mode": {
    "name": "ipython",
    "version": 3
   },
   "file_extension": ".py",
   "mimetype": "text/x-python",
   "name": "python",
   "nbconvert_exporter": "python",
   "pygments_lexer": "ipython3",
   "version": "3.11.4"
  },
  "orig_nbformat": 4
 },
 "nbformat": 4,
 "nbformat_minor": 2
}
